{
 "cells": [
  {
   "cell_type": "markdown",
   "id": "e4e42b79",
   "metadata": {},
   "source": [
    "`NumPy` (Numerical Python) adalah **library Python** yang digunakan untuk **komputasi numerik dan ilmiah**, terutama untuk:\n",
    "\n",
    "* **Operasi array dan matriks** secara efisien.\n",
    "* **Perhitungan matematika vektor dan matriks** (misalnya penjumlahan, perkalian, transpos, determinan, inverse, dll).\n",
    "* **Manipulasi data dalam bentuk array multidimensi (n-dimensional array)**.\n",
    "* **Fungsi-fungsi statistik, aljabar linear, transformasi Fourier, dan lainnya.**\n",
    "\n",
    "---\n",
    "\n",
    "### Contoh sederhana:\n",
    "\n",
    "```python\n",
    "import numpy as np\n",
    "\n",
    "a = np.array([1, 2, 3])\n",
    "b = np.array([4, 5, 6])\n",
    "\n",
    "print(a + b)  # [5 7 9]\n",
    "```\n",
    "\n",
    "### Kelebihan NumPy:\n",
    "\n",
    "* Sangat **cepat** karena ditulis dalam C.\n",
    "* **Memory-efficient** dibanding list Python biasa.\n",
    "* Menjadi **dasar** dari banyak library lain seperti Pandas, SciPy, scikit-learn, TensorFlow, dan lainnya.\n",
    "\n",
    "---\n",
    "\n",
    "### Contoh penggunaan lain:\n",
    "\n",
    "```python\n",
    "# Matriks 2x2\n",
    "mat = np.array([[1, 2], [3, 4]])\n",
    "\n",
    "# Transpose\n",
    "print(mat.T)\n",
    "\n",
    "# Perkalian matriks\n",
    "mat2 = np.array([[5, 6], [7, 8]])\n",
    "print(np.dot(mat, mat2))\n",
    "```\n",
    "# anjay\n"
   ]
  },
  {
   "cell_type": "code",
   "execution_count": 17,
   "id": "dff97f4b",
   "metadata": {},
   "outputs": [
    {
     "name": "stdout",
     "output_type": "stream",
     "text": [
      "1.26.4\n"
     ]
    }
   ],
   "source": [
    "import numpy as np \n",
    "\n",
    "print(np.__version__)"
   ]
  },
  {
   "cell_type": "code",
   "execution_count": 18,
   "id": "7b8cdc41",
   "metadata": {},
   "outputs": [
    {
     "name": "stdout",
     "output_type": "stream",
     "text": [
      "[1 2 3 4 5]\n",
      "int64\n"
     ]
    }
   ],
   "source": [
    "arr = np.array([1,2,3,4,5])# test\n",
    "print(arr)\n",
    "print(arr.dtype)"
   ]
  },
  {
   "cell_type": "code",
   "execution_count": 19,
   "id": "341395da",
   "metadata": {},
   "outputs": [
    {
     "name": "stdout",
     "output_type": "stream",
     "text": [
      "[1 2 3 4 5]\n"
     ]
    }
   ],
   "source": [
    "arr10: np.ndarray = np.array([1,2,3,4,5])\n",
    "print(arr10)"
   ]
  },
  {
   "cell_type": "code",
   "execution_count": 20,
   "id": "d54ad5bf",
   "metadata": {},
   "outputs": [
    {
     "data": {
      "text/plain": [
       "3"
      ]
     },
     "execution_count": 20,
     "metadata": {},
     "output_type": "execute_result"
    }
   ],
   "source": [
    "arr[2]"
   ]
  },
  {
   "cell_type": "code",
   "execution_count": 21,
   "id": "6e2f7355",
   "metadata": {},
   "outputs": [
    {
     "name": "stdout",
     "output_type": "stream",
     "text": [
      "[[1 2]\n",
      " [3 4]]\n"
     ]
    }
   ],
   "source": [
    "a = np.array([[1,2], [3, 4]])\n",
    "print(a)"
   ]
  },
  {
   "cell_type": "markdown",
   "id": "11568bea",
   "metadata": {},
   "source": [
    "numpy.array(object, dtype=None, copy=True, order=None, subok=False, ndmin=0)\n",
    "\n",
    "- object : Objek apa pun yang mengekspos metode antarmuka array mengembalikan array, atau apa pun (bersarang) urutan\n",
    "- dtype  : type data, opsional\n",
    "- copy   : Opsional. Secara default (True), objek disalin\n",
    "- order  : C (baris mayor) atau F (utama kolom) atau A (apa saja) (default)\n",
    "- subok  : Secara default, array yang dikembalikan dipaksa menjadi array kelas dasar. Jika benar, sub-kelas akan diberikan\n",
    "- ndimin : Menentukan dimensi minimum dari array yang dihasilkan"
   ]
  },
  {
   "cell_type": "markdown",
   "id": "36f56ecb",
   "metadata": {},
   "source": []
  },
  {
   "cell_type": "markdown",
   "id": "2286034a",
   "metadata": {},
   "source": [
    "# Tipe Data di Numpy\n",
    "\n",
    "Di NumPy, tipe data disebut **`dtype` (data type)\\`**, dan ini penting karena NumPy dirancang untuk bekerja dengan **array yang homogen**, artinya semua elemen dalam array memiliki tipe data yang sama.\n",
    "\n",
    "Berikut jenis-jenis tipe data (`dtype`) utama di NumPy:\n",
    "\n",
    "---\n",
    "\n",
    "### 📊 **1. Tipe Numerik**\n",
    "\n",
    "#### a. Integer (bilangan bulat)\n",
    "\n",
    "| Tipe     | Ukuran          | Keterangan         |\n",
    "| -------- | --------------- | ------------------ |\n",
    "| `int8`   | 8-bit signed    | -128 to 127        |\n",
    "| `int16`  | 16-bit signed   | -32,768 to 32,767  |\n",
    "| `int32`  | 32-bit signed   | -2^31 to 2^31 - 1  |\n",
    "| `int64`  | 64-bit signed   | -2^63 to 2^63 - 1  |\n",
    "| `uint8`  | 8-bit unsigned  | 0 to 255           |\n",
    "| `uint16` | 16-bit unsigned | 0 to 65,535        |\n",
    "| `uint32` | 32-bit unsigned | 0 to 4,294,967,295 |\n",
    "| `uint64` | 64-bit unsigned | 0 to 2^64 - 1      |\n",
    "\n",
    "#### b. Float (bilangan desimal)\n",
    "\n",
    "| Tipe      | Ukuran       | Keterangan               |\n",
    "| --------- | ------------ | ------------------------ |\n",
    "| `float16` | 16-bit float | Presisi rendah           |\n",
    "| `float32` | 32-bit float | Presisi sedang (default) |\n",
    "| `float64` | 64-bit float | Presisi tinggi           |\n",
    "\n",
    "---\n",
    "\n",
    "### 🔢 **2. Tipe Kompleks**\n",
    "\n",
    "Digunakan untuk bilangan kompleks: `a + bj`\n",
    "\n",
    "* `complex64`  → Real dan imaginary: 2 × 32-bit float\n",
    "* `complex128` → Real dan imaginary: 2 × 64-bit float\n",
    "\n",
    "---\n",
    "\n",
    "### 🔤 **3. Tipe String**\n",
    "\n",
    "* `str_`  → Unicode string (panjang tetap)\n",
    "* `bytes_` → Byte string\n",
    "\n",
    "Contoh:\n",
    "\n",
    "```python\n",
    "np.array([\"halo\", \"dunia\"], dtype=np.str_)\n",
    "```\n",
    "\n",
    "---\n",
    "\n",
    "### 📅 **4. Tipe Waktu dan Tanggal**\n",
    "\n",
    "* `datetime64` → Representasi waktu (misalnya `'2025-07-04'`)\n",
    "* `timedelta64` → Durasi atau selisih waktu\n",
    "\n",
    "---\n",
    "\n",
    "### ✅ **5. Boolean**\n",
    "\n",
    "* `bool_` → Hanya `True` atau `False`\n",
    "\n",
    "---\n",
    "\n",
    "### 🧬 **6. Object**\n",
    "\n",
    "* `object_` → Untuk menyimpan objek Python bebas (misalnya campur string & angka)\n",
    "\n",
    "```python\n",
    "np.array([1, 'hello', True], dtype=object)\n",
    "```\n",
    "\n",
    "---\n",
    "\n",
    "### 🔍 Melihat tipe data suatu array\n",
    "\n",
    "```python\n",
    "arr = np.array([1, 2, 3])\n",
    "print(arr.dtype)  # int64 (tergantung sistem)\n",
    "\n",
    "arr2 = np.array([1.0, 2.0])\n",
    "print(arr2.dtype)  # float64\n",
    "```\n",
    "\n",
    "---\n",
    "\n",
    "Kalau kamu mau, aku bisa bantu buatkan tabel ringkasan dalam format gambar juga. Mau?\n"
   ]
  },
  {
   "cell_type": "code",
   "execution_count": 6,
   "id": "aee6221b",
   "metadata": {},
   "outputs": [
    {
     "name": "stdout",
     "output_type": "stream",
     "text": [
      "int64\n"
     ]
    }
   ],
   "source": [
    "print(a.dtype)"
   ]
  },
  {
   "cell_type": "code",
   "execution_count": 7,
   "id": "4a4dec93",
   "metadata": {},
   "outputs": [
    {
     "name": "stdout",
     "output_type": "stream",
     "text": [
      "<U8\n",
      "<U1\n"
     ]
    }
   ],
   "source": [
    "# contoh 2 tipe data dengan unicode string\n",
    "arr_1 = np.array(['rambutan', 'apel', 'jeruk'])\n",
    "print(arr_1.dtype)\n",
    "arr_1 = np.array(['r', 'a', 'j'])\n",
    "print(arr_1.dtype)"
   ]
  },
  {
   "cell_type": "code",
   "execution_count": 22,
   "id": "81514e51",
   "metadata": {},
   "outputs": [
    {
     "name": "stdout",
     "output_type": "stream",
     "text": [
      "[b'1' b'2' b'3' b'4']\n",
      "|S1\n"
     ]
    }
   ],
   "source": [
    "#contoh 3 tipe data yang didefinisikan\n",
    "arr_2 = np.array([1, 2, 3, 4], dtype='S')\n",
    "\n",
    "print(arr_2)\n",
    "print(arr_2.dtype)"
   ]
  },
  {
   "cell_type": "markdown",
   "id": "2a5835a4",
   "metadata": {},
   "source": [
    "👍 Bagus, kamu menemukan salah satu tipe string **khusus** di NumPy, yaitu **`dtype='S'`**.\n",
    "\n",
    "---\n",
    "\n",
    "### 🔤 `dtype='S'` artinya:\n",
    "\n",
    "Tipe data **byte string** alias **string dalam bentuk bytes**, bukan Unicode.\n",
    "Disimpan dalam format `bytes`, mirip seperti `b'hello'` di Python.\n",
    "\n",
    "---\n",
    "\n",
    "### 🧪 Contoh:\n",
    "\n",
    "```python\n",
    "import numpy as np\n",
    "\n",
    "arr_2 = np.array([1, 2, 3, 4], dtype='S')\n",
    "print(arr_2)         # [b'1' b'2' b'3' b'4']\n",
    "print(arr_2.dtype)   # |S1\n",
    "```\n",
    "\n",
    "Penjelasan `|S1`:\n",
    "\n",
    "* `S` → string bytes\n",
    "* `1` → maksimal 1 byte per elemen (karena angka 1–9 cuma 1 karakter)\n",
    "* `|` → byte-order (tidak penting untuk string)\n",
    "\n",
    "---\n",
    "\n",
    "### ⚠️ Ciri-ciri `S` (byte string):\n",
    "\n",
    "* Isinya berupa `b'string'`, bukan `'string'` biasa.\n",
    "* **Bukan Unicode**, jadi tidak bisa langsung menyimpan karakter non-ASCII seperti `'é'`, `'あ'`, atau `'😊'`.\n",
    "* Lebih ringan dan cepat untuk teks ASCII sederhana.\n",
    "\n",
    "---\n",
    "\n",
    "### 💡 Perbandingan:\n",
    "\n",
    "```python\n",
    "# Unicode string\n",
    "arr_unicode = np.array(['hello'], dtype='U')\n",
    "print(arr_unicode)   # ['hello']\n",
    "print(arr_unicode.dtype)  # <U5\n",
    "\n",
    "# Byte string\n",
    "arr_bytes = np.array(['hello'], dtype='S')\n",
    "print(arr_bytes)     # [b'hello']\n",
    "print(arr_bytes.dtype)  # |S5\n",
    "```\n",
    "\n",
    "---\n",
    "\n",
    "### 🧠 Kapan pakai `'S'`?\n",
    "\n",
    "* Saat kamu **hanya butuh teks ASCII biasa** dan ingin **hemat memori**.\n",
    "* Tapi kalau kamu perlu dukungan karakter Unicode (misal `'你好'`, `'😊'`), **pakailah `'U'` atau `str`**.\n",
    "\n",
    "---\n",
    "\n",
    "Kalau kamu tertarik, bisa aku tunjukin juga contoh error saat karakter Unicode dimasukkan ke array `dtype='S'`. Mau?\n"
   ]
  },
  {
   "cell_type": "code",
   "execution_count": 9,
   "id": "ea40f0ec",
   "metadata": {},
   "outputs": [
    {
     "name": "stdout",
     "output_type": "stream",
     "text": [
      "float64\n",
      "[1 2 3]\n",
      "int32\n"
     ]
    }
   ],
   "source": [
    "#contoh 4 tipe data yang diubah\n",
    "arrs = np.array([1.1, 2.1, 3.1])\n",
    "\n",
    "print(arrs.dtype)\n",
    "\n",
    "newarr = arrs.astype('i')\n",
    "\n",
    "print(newarr)\n",
    "print(newarr.dtype)"
   ]
  },
  {
   "cell_type": "markdown",
   "id": "aa320a98",
   "metadata": {},
   "source": [
    "# Membuat array dari yang sudah ada "
   ]
  },
  {
   "cell_type": "code",
   "execution_count": 23,
   "id": "f0e68ef0",
   "metadata": {},
   "outputs": [
    {
     "name": "stdout",
     "output_type": "stream",
     "text": [
      "<class 'list'>\n",
      "int64\n",
      "[1 2 3 4 5]\n"
     ]
    }
   ],
   "source": [
    "x = [1, 2, 3, 4, 5]\n",
    "print(type(x))\n",
    "# ini bisa bikin array yang sudah di init\n",
    "x = np.asarray(x)\n",
    "print(x.dtype)\n",
    "print(x)"
   ]
  },
  {
   "cell_type": "code",
   "execution_count": 11,
   "id": "8d1c1b33",
   "metadata": {},
   "outputs": [
    {
     "name": "stdout",
     "output_type": "stream",
     "text": [
      "<class 'list'>\n",
      "float32\n",
      "[1. 2. 3. 4. 5.]\n"
     ]
    }
   ],
   "source": [
    "x = [1, 2, 3, 4, 5]\n",
    "print(type(x))\n",
    "x = np.asarray(x, dtype=\"f\")\n",
    "print(x.dtype)\n",
    "print(x)"
   ]
  },
  {
   "cell_type": "code",
   "execution_count": 12,
   "id": "038ba8e4",
   "metadata": {},
   "outputs": [
    {
     "name": "stdout",
     "output_type": "stream",
     "text": [
      "<class 'list'>\n",
      "int64\n",
      "[123 456 789]\n"
     ]
    }
   ],
   "source": [
    "x = [\"123\", \"456\", \"789\"]\n",
    "print(type(x))\n",
    "x = np.asarray(x, dtype=int)\n",
    "print(x.dtype)\n",
    "print(x)\n"
   ]
  },
  {
   "cell_type": "code",
   "execution_count": 24,
   "id": "92304c52",
   "metadata": {},
   "outputs": [
    {
     "name": "stdout",
     "output_type": "stream",
     "text": [
      "[(1, 2, 3, 4, 5), (6, 7, 8, 9, 10)]\n",
      "[[ 1  2  3  4  5]\n",
      " [ 6  7  8  9 10]]\n"
     ]
    }
   ],
   "source": [
    "a = (1, 2, 3, 4, 5)\n",
    "b = (6, 7, 8, 9, 10)\n",
    "\n",
    "ab = [a, b]\n",
    "print(ab)\n",
    "\n",
    "ab_array_np = np.asarray(ab)\n",
    "print(ab_array_np)"
   ]
  },
  {
   "cell_type": "markdown",
   "id": "ad5fa22a",
   "metadata": {},
   "source": [
    "Membuat rentang nilai menggunakan numpy (STUDY CASE) :\n",
    "membuat dataframe menggunakan rentang nilai random dan deterministik\n",
    "\n",
    "\n",
    "\n",
    "numpy.arange(start, stop, step, dtype)"
   ]
  },
  {
   "cell_type": "markdown",
   "id": "ec2ab90f",
   "metadata": {},
   "source": [
    "`np.arange()` adalah fungsi di NumPy untuk membuat **array berisi deretan angka** dengan pola tertentu (mirip `range()` bawaan Python, tapi hasilnya array NumPy).\n",
    "\n",
    "---\n",
    "\n",
    "### 🔧 **Sintaks:**\n",
    "\n",
    "```python\n",
    "np.arange(start, stop, step, dtype=None)\n",
    "```\n",
    "\n",
    "* `start` → awal angka (default: 0)\n",
    "* `stop` → batas akhir (tidak termasuk)\n",
    "* `step` → loncatan antar angka (default: 1)\n",
    "* `dtype` → tipe data (opsional)\n",
    "\n",
    "---\n",
    "\n",
    "### ✅ **Contoh Penggunaan:**\n",
    "\n",
    "```python\n",
    "import numpy as np\n",
    "\n",
    "a = np.arange(0, 10)\n",
    "print(a)  # [0 1 2 3 4 5 6 7 8 9]\n",
    "```\n",
    "\n",
    "```python\n",
    "b = np.arange(1, 11, 2)\n",
    "print(b)  # [1 3 5 7 9]\n",
    "```\n",
    "\n",
    "```python\n",
    "c = np.arange(5, 0, -1)\n",
    "print(c)  # [5 4 3 2 1]\n",
    "```\n",
    "\n",
    "---\n",
    "\n",
    "### ⚠️ Kenapa pakai `np.arange` bukan `range`?\n",
    "\n",
    "* `range()` menghasilkan objek Python biasa, **bukan NumPy array**.\n",
    "* `np.arange()` lebih fleksibel dan bisa langsung digunakan untuk operasi matematis di NumPy.\n",
    "\n",
    "---\n",
    "\n",
    "### 🧠 Contoh lanjut:\n",
    "\n",
    "```python\n",
    "arr = np.arange(1, 6)\n",
    "print(arr * 2)  # [ 2  4  6  8 10]\n",
    "```\n",
    "\n",
    "---\n",
    "\n",
    "### 🔍 Perhatian:\n",
    "\n",
    "Untuk data **floating point**, hasil `np.arange` bisa kurang presisi. Lebih aman pakai `np.linspace()` kalau kamu ingin titik-titik yang dibagi rata.\n",
    "\n",
    "Contoh:\n",
    "\n",
    "```python\n",
    "np.arange(0, 1, 0.1)  # Bisa muncul angka aneh karena pembulatan float\n",
    "np.linspace(0, 1, 10)  # Lebih akurat\n",
    "```\n",
    "\n",
    "---\n",
    "\n",
    "Mau aku tunjukin juga visualisasi `np.arange()` atau bedanya dengan `linspace()` secara grafik?\n"
   ]
  },
  {
   "cell_type": "code",
   "execution_count": 27,
   "id": "1e2b18a5",
   "metadata": {},
   "outputs": [],
   "source": [
    "z = np.arange(0, 1, 0.1, dtype=\"f\")\n",
    "x = np.arange(1, 11, 1)\n",
    "y = np.arange(10, 20, 1)"
   ]
  },
  {
   "cell_type": "code",
   "execution_count": 34,
   "id": "278aea4e",
   "metadata": {},
   "outputs": [
    {
     "name": "stdout",
     "output_type": "stream",
     "text": [
      "[0.         0.1        0.2        0.3        0.4        0.5\n",
      " 0.6        0.7        0.8        0.90000004]\n",
      "[[1 1 1 1]\n",
      " [1 1 1 1]\n",
      " [1 1 1 1]]\n",
      "[10 11 12 13 14 15 16 17 18 19]\n",
      "10 3 10\n"
     ]
    }
   ],
   "source": [
    "print(z)\n",
    "print(x)\n",
    "print(y)\n",
    "\n",
    "print(len(z), len(x), len(y))"
   ]
  },
  {
   "cell_type": "code",
   "execution_count": 32,
   "id": "ab90d0e3",
   "metadata": {},
   "outputs": [],
   "source": [
    "import pandas as pd"
   ]
  },
  {
   "cell_type": "code",
   "execution_count": 35,
   "id": "7d38f76f",
   "metadata": {},
   "outputs": [
    {
     "ename": "ValueError",
     "evalue": "Per-column arrays must each be 1-dimensional",
     "output_type": "error",
     "traceback": [
      "\u001b[31m---------------------------------------------------------------------------\u001b[39m",
      "\u001b[31mValueError\u001b[39m                                Traceback (most recent call last)",
      "\u001b[36mCell\u001b[39m\u001b[36m \u001b[39m\u001b[32mIn[35]\u001b[39m\u001b[32m, line 1\u001b[39m\n\u001b[32m----> \u001b[39m\u001b[32m1\u001b[39m \u001b[43mpd\u001b[49m\u001b[43m.\u001b[49m\u001b[43mDataFrame\u001b[49m\u001b[43m(\u001b[49m\u001b[43m{\u001b[49m\u001b[33;43m'\u001b[39;49m\u001b[33;43mz\u001b[39;49m\u001b[33;43m'\u001b[39;49m\u001b[43m \u001b[49m\u001b[43m:\u001b[49m\u001b[43m \u001b[49m\u001b[43mz\u001b[49m\u001b[43m,\u001b[49m\u001b[43m \u001b[49m\u001b[33;43m'\u001b[39;49m\u001b[33;43mx\u001b[39;49m\u001b[33;43m'\u001b[39;49m\u001b[43m \u001b[49m\u001b[43m:\u001b[49m\u001b[43m \u001b[49m\u001b[43mx\u001b[49m\u001b[43m,\u001b[49m\u001b[43m \u001b[49m\u001b[33;43m'\u001b[39;49m\u001b[33;43my\u001b[39;49m\u001b[33;43m'\u001b[39;49m\u001b[43m \u001b[49m\u001b[43m:\u001b[49m\u001b[43m \u001b[49m\u001b[43my\u001b[49m\u001b[43m}\u001b[49m\u001b[43m)\u001b[49m\n",
      "\u001b[36mFile \u001b[39m\u001b[32m~/miniconda3/envs/porto-bank-transaction-cluster/lib/python3.11/site-packages/pandas/core/frame.py:778\u001b[39m, in \u001b[36mDataFrame.__init__\u001b[39m\u001b[34m(self, data, index, columns, dtype, copy)\u001b[39m\n\u001b[32m    772\u001b[39m     mgr = \u001b[38;5;28mself\u001b[39m._init_mgr(\n\u001b[32m    773\u001b[39m         data, axes={\u001b[33m\"\u001b[39m\u001b[33mindex\u001b[39m\u001b[33m\"\u001b[39m: index, \u001b[33m\"\u001b[39m\u001b[33mcolumns\u001b[39m\u001b[33m\"\u001b[39m: columns}, dtype=dtype, copy=copy\n\u001b[32m    774\u001b[39m     )\n\u001b[32m    776\u001b[39m \u001b[38;5;28;01melif\u001b[39;00m \u001b[38;5;28misinstance\u001b[39m(data, \u001b[38;5;28mdict\u001b[39m):\n\u001b[32m    777\u001b[39m     \u001b[38;5;66;03m# GH#38939 de facto copy defaults to False only in non-dict cases\u001b[39;00m\n\u001b[32m--> \u001b[39m\u001b[32m778\u001b[39m     mgr = \u001b[43mdict_to_mgr\u001b[49m\u001b[43m(\u001b[49m\u001b[43mdata\u001b[49m\u001b[43m,\u001b[49m\u001b[43m \u001b[49m\u001b[43mindex\u001b[49m\u001b[43m,\u001b[49m\u001b[43m \u001b[49m\u001b[43mcolumns\u001b[49m\u001b[43m,\u001b[49m\u001b[43m \u001b[49m\u001b[43mdtype\u001b[49m\u001b[43m=\u001b[49m\u001b[43mdtype\u001b[49m\u001b[43m,\u001b[49m\u001b[43m \u001b[49m\u001b[43mcopy\u001b[49m\u001b[43m=\u001b[49m\u001b[43mcopy\u001b[49m\u001b[43m,\u001b[49m\u001b[43m \u001b[49m\u001b[43mtyp\u001b[49m\u001b[43m=\u001b[49m\u001b[43mmanager\u001b[49m\u001b[43m)\u001b[49m\n\u001b[32m    779\u001b[39m \u001b[38;5;28;01melif\u001b[39;00m \u001b[38;5;28misinstance\u001b[39m(data, ma.MaskedArray):\n\u001b[32m    780\u001b[39m     \u001b[38;5;28;01mfrom\u001b[39;00m\u001b[38;5;250m \u001b[39m\u001b[34;01mnumpy\u001b[39;00m\u001b[34;01m.\u001b[39;00m\u001b[34;01mma\u001b[39;00m\u001b[38;5;250m \u001b[39m\u001b[38;5;28;01mimport\u001b[39;00m mrecords\n",
      "\u001b[36mFile \u001b[39m\u001b[32m~/miniconda3/envs/porto-bank-transaction-cluster/lib/python3.11/site-packages/pandas/core/internals/construction.py:503\u001b[39m, in \u001b[36mdict_to_mgr\u001b[39m\u001b[34m(data, index, columns, dtype, typ, copy)\u001b[39m\n\u001b[32m    499\u001b[39m     \u001b[38;5;28;01melse\u001b[39;00m:\n\u001b[32m    500\u001b[39m         \u001b[38;5;66;03m# dtype check to exclude e.g. range objects, scalars\u001b[39;00m\n\u001b[32m    501\u001b[39m         arrays = [x.copy() \u001b[38;5;28;01mif\u001b[39;00m \u001b[38;5;28mhasattr\u001b[39m(x, \u001b[33m\"\u001b[39m\u001b[33mdtype\u001b[39m\u001b[33m\"\u001b[39m) \u001b[38;5;28;01melse\u001b[39;00m x \u001b[38;5;28;01mfor\u001b[39;00m x \u001b[38;5;129;01min\u001b[39;00m arrays]\n\u001b[32m--> \u001b[39m\u001b[32m503\u001b[39m \u001b[38;5;28;01mreturn\u001b[39;00m \u001b[43marrays_to_mgr\u001b[49m\u001b[43m(\u001b[49m\u001b[43marrays\u001b[49m\u001b[43m,\u001b[49m\u001b[43m \u001b[49m\u001b[43mcolumns\u001b[49m\u001b[43m,\u001b[49m\u001b[43m \u001b[49m\u001b[43mindex\u001b[49m\u001b[43m,\u001b[49m\u001b[43m \u001b[49m\u001b[43mdtype\u001b[49m\u001b[43m=\u001b[49m\u001b[43mdtype\u001b[49m\u001b[43m,\u001b[49m\u001b[43m \u001b[49m\u001b[43mtyp\u001b[49m\u001b[43m=\u001b[49m\u001b[43mtyp\u001b[49m\u001b[43m,\u001b[49m\u001b[43m \u001b[49m\u001b[43mconsolidate\u001b[49m\u001b[43m=\u001b[49m\u001b[43mcopy\u001b[49m\u001b[43m)\u001b[49m\n",
      "\u001b[36mFile \u001b[39m\u001b[32m~/miniconda3/envs/porto-bank-transaction-cluster/lib/python3.11/site-packages/pandas/core/internals/construction.py:114\u001b[39m, in \u001b[36marrays_to_mgr\u001b[39m\u001b[34m(arrays, columns, index, dtype, verify_integrity, typ, consolidate)\u001b[39m\n\u001b[32m    111\u001b[39m \u001b[38;5;28;01mif\u001b[39;00m verify_integrity:\n\u001b[32m    112\u001b[39m     \u001b[38;5;66;03m# figure out the index, if necessary\u001b[39;00m\n\u001b[32m    113\u001b[39m     \u001b[38;5;28;01mif\u001b[39;00m index \u001b[38;5;129;01mis\u001b[39;00m \u001b[38;5;28;01mNone\u001b[39;00m:\n\u001b[32m--> \u001b[39m\u001b[32m114\u001b[39m         index = \u001b[43m_extract_index\u001b[49m\u001b[43m(\u001b[49m\u001b[43marrays\u001b[49m\u001b[43m)\u001b[49m\n\u001b[32m    115\u001b[39m     \u001b[38;5;28;01melse\u001b[39;00m:\n\u001b[32m    116\u001b[39m         index = ensure_index(index)\n",
      "\u001b[36mFile \u001b[39m\u001b[32m~/miniconda3/envs/porto-bank-transaction-cluster/lib/python3.11/site-packages/pandas/core/internals/construction.py:664\u001b[39m, in \u001b[36m_extract_index\u001b[39m\u001b[34m(data)\u001b[39m\n\u001b[32m    662\u001b[39m         raw_lengths.append(\u001b[38;5;28mlen\u001b[39m(val))\n\u001b[32m    663\u001b[39m     \u001b[38;5;28;01melif\u001b[39;00m \u001b[38;5;28misinstance\u001b[39m(val, np.ndarray) \u001b[38;5;129;01mand\u001b[39;00m val.ndim > \u001b[32m1\u001b[39m:\n\u001b[32m--> \u001b[39m\u001b[32m664\u001b[39m         \u001b[38;5;28;01mraise\u001b[39;00m \u001b[38;5;167;01mValueError\u001b[39;00m(\u001b[33m\"\u001b[39m\u001b[33mPer-column arrays must each be 1-dimensional\u001b[39m\u001b[33m\"\u001b[39m)\n\u001b[32m    666\u001b[39m \u001b[38;5;28;01mif\u001b[39;00m \u001b[38;5;129;01mnot\u001b[39;00m indexes \u001b[38;5;129;01mand\u001b[39;00m \u001b[38;5;129;01mnot\u001b[39;00m raw_lengths:\n\u001b[32m    667\u001b[39m     \u001b[38;5;28;01mraise\u001b[39;00m \u001b[38;5;167;01mValueError\u001b[39;00m(\u001b[33m\"\u001b[39m\u001b[33mIf using all scalar values, you must pass an index\u001b[39m\u001b[33m\"\u001b[39m)\n",
      "\u001b[31mValueError\u001b[39m: Per-column arrays must each be 1-dimensional"
     ]
    }
   ],
   "source": [
    "pd.DataFrame({'z' : z, 'x' : x, 'y' : y})"
   ]
  },
  {
   "cell_type": "code",
   "execution_count": 31,
   "id": "3ed99171",
   "metadata": {},
   "outputs": [
    {
     "name": "stdout",
     "output_type": "stream",
     "text": [
      "[[1 1 1 1]\n",
      " [1 1 1 1]\n",
      " [1 1 1 1]]\n",
      "int64\n"
     ]
    }
   ],
   "source": [
    "#membuat array dengan nilai 1 di numpy\n",
    "x = np.ones((3,4), dtype=int)\n",
    "print(x)\n",
    "print(x.dtype)"
   ]
  },
  {
   "cell_type": "code",
   "execution_count": 36,
   "id": "bf5fe604",
   "metadata": {},
   "outputs": [
    {
     "name": "stdout",
     "output_type": "stream",
     "text": [
      "[[0. 0. 0. 0. 0. 0. 0.]\n",
      " [0. 0. 0. 0. 0. 0. 0.]\n",
      " [0. 0. 0. 0. 0. 0. 0.]\n",
      " [0. 0. 0. 0. 0. 0. 0.]\n",
      " [0. 0. 0. 0. 0. 0. 0.]]\n"
     ]
    }
   ],
   "source": [
    "#membuat array dengan nilai 0 di numpy\n",
    "x = np.zeros((5,7))\n",
    "print(x)"
   ]
  },
  {
   "cell_type": "code",
   "execution_count": 37,
   "id": "4f4cf2ac",
   "metadata": {},
   "outputs": [
    {
     "name": "stdout",
     "output_type": "stream",
     "text": [
      "[[0.72 0.72 0.72 0.72]\n",
      " [0.72 0.72 0.72 0.72]\n",
      " [0.72 0.72 0.72 0.72]]\n"
     ]
    }
   ],
   "source": [
    "x = np.full((3,4), 0.72)\n",
    "print(x)"
   ]
  },
  {
   "cell_type": "code",
   "execution_count": 38,
   "id": "0452f68d",
   "metadata": {},
   "outputs": [
    {
     "name": "stdout",
     "output_type": "stream",
     "text": [
      "[[0.08592471 0.47648708 0.11156115]\n",
      " [0.95851629 0.36207267 0.77568766]\n",
      " [0.85431436 0.85035392 0.94026718]\n",
      " [0.37354461 0.20491968 0.77196217]\n",
      " [0.10040989 0.2168841  0.33011898]]\n"
     ]
    }
   ],
   "source": [
    "x = np.random.rand(5,3)\n",
    "print(x)"
   ]
  },
  {
   "cell_type": "code",
   "execution_count": 39,
   "id": "1da731ce",
   "metadata": {},
   "outputs": [
    {
     "data": {
      "text/html": [
       "<div>\n",
       "<style scoped>\n",
       "    .dataframe tbody tr th:only-of-type {\n",
       "        vertical-align: middle;\n",
       "    }\n",
       "\n",
       "    .dataframe tbody tr th {\n",
       "        vertical-align: top;\n",
       "    }\n",
       "\n",
       "    .dataframe thead th {\n",
       "        text-align: right;\n",
       "    }\n",
       "</style>\n",
       "<table border=\"1\" class=\"dataframe\">\n",
       "  <thead>\n",
       "    <tr style=\"text-align: right;\">\n",
       "      <th></th>\n",
       "      <th>x</th>\n",
       "      <th>y</th>\n",
       "      <th>z</th>\n",
       "    </tr>\n",
       "  </thead>\n",
       "  <tbody>\n",
       "    <tr>\n",
       "      <th>0</th>\n",
       "      <td>0.085925</td>\n",
       "      <td>0.476487</td>\n",
       "      <td>0.111561</td>\n",
       "    </tr>\n",
       "    <tr>\n",
       "      <th>1</th>\n",
       "      <td>0.958516</td>\n",
       "      <td>0.362073</td>\n",
       "      <td>0.775688</td>\n",
       "    </tr>\n",
       "    <tr>\n",
       "      <th>2</th>\n",
       "      <td>0.854314</td>\n",
       "      <td>0.850354</td>\n",
       "      <td>0.940267</td>\n",
       "    </tr>\n",
       "    <tr>\n",
       "      <th>3</th>\n",
       "      <td>0.373545</td>\n",
       "      <td>0.204920</td>\n",
       "      <td>0.771962</td>\n",
       "    </tr>\n",
       "    <tr>\n",
       "      <th>4</th>\n",
       "      <td>0.100410</td>\n",
       "      <td>0.216884</td>\n",
       "      <td>0.330119</td>\n",
       "    </tr>\n",
       "  </tbody>\n",
       "</table>\n",
       "</div>"
      ],
      "text/plain": [
       "          x         y         z\n",
       "0  0.085925  0.476487  0.111561\n",
       "1  0.958516  0.362073  0.775688\n",
       "2  0.854314  0.850354  0.940267\n",
       "3  0.373545  0.204920  0.771962\n",
       "4  0.100410  0.216884  0.330119"
      ]
     },
     "execution_count": 39,
     "metadata": {},
     "output_type": "execute_result"
    }
   ],
   "source": [
    "pd.DataFrame(x, columns=['x', 'y', 'z'])"
   ]
  },
  {
   "cell_type": "markdown",
   "id": "fb3df268",
   "metadata": {},
   "source": [
    "# Tugas 1"
   ]
  },
  {
   "cell_type": "code",
   "execution_count": null,
   "id": "3975dbfb",
   "metadata": {},
   "outputs": [
    {
     "name": "stdout",
     "output_type": "stream",
     "text": [
      "          x         y         z         w\n",
      "0  0.313421  0.476997  0.757567  0.994505\n",
      "1  0.064052  0.337914  0.563423  0.337099\n",
      "2  0.817936  0.849557  0.333137  0.049115\n"
     ]
    }
   ],
   "source": [
    "u = np.random.rand(3, 4)\n",
    "\n",
    "df = pd.DataFrame(u, columns=['x', 'y', 'z', 'w'])\n",
    "print(df)"
   ]
  },
  {
   "cell_type": "markdown",
   "id": "c6eb41c3",
   "metadata": {},
   "source": [
    "# Tugas 2"
   ]
  },
  {
   "cell_type": "code",
   "execution_count": null,
   "id": "178d09c4",
   "metadata": {},
   "outputs": [
    {
     "name": "stdout",
     "output_type": "stream",
     "text": [
      "   0  1  2  3  4  5  0  1  2  3  4  5\n",
      "0  1  1  1  1  1  1  0  0  0  0  0  0\n",
      "1  1  1  1  1  1  1  0  0  0  0  0  0\n",
      "2  1  1  1  1  1  1  0  0  0  0  0  0\n",
      "3  1  1  1  1  1  1  0  0  0  0  0  0\n",
      "4  1  1  1  1  1  1  0  0  0  0  0  0\n"
     ]
    }
   ],
   "source": [
    "satu = np.full((5, 6), 1)\n",
    "nol = np.full((5, 6), 0)\n",
    "\n",
    "#\n",
    "\n",
    "df_satu = pd.DataFrame(satu)\n",
    "df_nol = pd.DataFrame(nol)\n",
    "\n",
    "gabung = pd.concat([df_satu, df_nol], axis=1)\n",
    "print(gabung)"
   ]
  }
 ],
 "metadata": {
  "kernelspec": {
   "display_name": "porto-bank-transaction-cluster",
   "language": "python",
   "name": "python3"
  },
  "language_info": {
   "codemirror_mode": {
    "name": "ipython",
    "version": 3
   },
   "file_extension": ".py",
   "mimetype": "text/x-python",
   "name": "python",
   "nbconvert_exporter": "python",
   "pygments_lexer": "ipython3",
   "version": "3.11.13"
  }
 },
 "nbformat": 4,
 "nbformat_minor": 5
}
