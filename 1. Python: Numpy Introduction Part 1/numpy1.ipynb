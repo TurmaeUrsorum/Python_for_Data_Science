{
 "cells": [
  {
   "cell_type": "markdown",
   "id": "e4e42b79",
   "metadata": {},
   "source": [
    "`NumPy` (Numerical Python) adalah **library Python** yang digunakan untuk **komputasi numerik dan ilmiah**, terutama untuk:\n",
    "\n",
    "* **Operasi array dan matriks** secara efisien.\n",
    "* **Perhitungan matematika vektor dan matriks** (misalnya penjumlahan, perkalian, transpos, determinan, inverse, dll).\n",
    "* **Manipulasi data dalam bentuk array multidimensi (n-dimensional array)**.\n",
    "* **Fungsi-fungsi statistik, aljabar linear, transformasi Fourier, dan lainnya.**\n",
    "\n",
    "---\n",
    "\n",
    "### Contoh sederhana:\n",
    "\n",
    "```python\n",
    "import numpy as np\n",
    "\n",
    "a = np.array([1, 2, 3])\n",
    "b = np.array([4, 5, 6])\n",
    "\n",
    "print(a + b)  # [5 7 9]\n",
    "```\n",
    "\n",
    "### Kelebihan NumPy:\n",
    "\n",
    "* Sangat **cepat** karena ditulis dalam C.\n",
    "* **Memory-efficient** dibanding list Python biasa.\n",
    "* Menjadi **dasar** dari banyak library lain seperti Pandas, SciPy, scikit-learn, TensorFlow, dan lainnya.\n",
    "\n",
    "---\n",
    "\n",
    "### Contoh penggunaan lain:\n",
    "\n",
    "```python\n",
    "# Matriks 2x2\n",
    "mat = np.array([[1, 2], [3, 4]])\n",
    "\n",
    "# Transpose\n",
    "print(mat.T)\n",
    "\n",
    "# Perkalian matriks\n",
    "mat2 = np.array([[5, 6], [7, 8]])\n",
    "print(np.dot(mat, mat2))\n",
    "```\n",
    "\n",
    "Kalau kamu tertarik dengan data science, machine learning, atau analisis data — **NumPy itu fondasi utama** yang wajib dikuasai. Mau dibantu belajar dasar-dasarnya?\n"
   ]
  },
  {
   "cell_type": "code",
   "execution_count": 2,
   "id": "dff97f4b",
   "metadata": {},
   "outputs": [],
   "source": [
    "import numpy as np "
   ]
  },
  {
   "cell_type": "code",
   "execution_count": 3,
   "id": "7b8cdc41",
   "metadata": {},
   "outputs": [
    {
     "name": "stdout",
     "output_type": "stream",
     "text": [
      "[1 2 3 4 5]\n"
     ]
    }
   ],
   "source": [
    "arr = np.array([1,2,3,4,5])\n",
    "print(arr)"
   ]
  },
  {
   "cell_type": "code",
   "execution_count": 4,
   "id": "d54ad5bf",
   "metadata": {},
   "outputs": [
    {
     "data": {
      "text/plain": [
       "3"
      ]
     },
     "execution_count": 4,
     "metadata": {},
     "output_type": "execute_result"
    }
   ],
   "source": [
    "arr[2]"
   ]
  },
  {
   "cell_type": "code",
   "execution_count": 6,
   "id": "6e2f7355",
   "metadata": {},
   "outputs": [
    {
     "name": "stdout",
     "output_type": "stream",
     "text": [
      "[[1 2]\n",
      " [3 4]]\n"
     ]
    }
   ],
   "source": [
    "a = np.array([[1,2], [3, 4]])\n",
    "print(a)"
   ]
  },
  {
   "cell_type": "markdown",
   "id": "11568bea",
   "metadata": {},
   "source": [
    "numpy.array(object, dtype=None, copy=True, order=None, subok=False, ndmin=0)\n",
    "\n",
    "- object : Objek apa pun yang mengekspos metode antarmuka array mengembalikan array, atau apa pun (bersarang) urutan\n",
    "- dtype  : type data, opsional\n",
    "- copy   : Opsional. Secara default (True), objek disalin\n",
    "- order  : C (baris mayor) atau F (utama kolom) atau A (apa saja) (default)\n",
    "- subok  : Secara default, array yang dikembalikan dipaksa menjadi array kelas dasar. Jika benar, sub-kelas akan diberikan\n",
    "- ndimin : Menentukan dimensi minimum dari array yang dihasilkan"
   ]
  },
  {
   "cell_type": "markdown",
   "id": "2286034a",
   "metadata": {},
   "source": [
    "# Tipe Data di Numpy\n",
    "\n",
    "Di NumPy, tipe data disebut **`dtype` (data type)\\`**, dan ini penting karena NumPy dirancang untuk bekerja dengan **array yang homogen**, artinya semua elemen dalam array memiliki tipe data yang sama.\n",
    "\n",
    "Berikut jenis-jenis tipe data (`dtype`) utama di NumPy:\n",
    "\n",
    "---\n",
    "\n",
    "### 📊 **1. Tipe Numerik**\n",
    "\n",
    "#### a. Integer (bilangan bulat)\n",
    "\n",
    "| Tipe     | Ukuran          | Keterangan         |\n",
    "| -------- | --------------- | ------------------ |\n",
    "| `int8`   | 8-bit signed    | -128 to 127        |\n",
    "| `int16`  | 16-bit signed   | -32,768 to 32,767  |\n",
    "| `int32`  | 32-bit signed   | -2^31 to 2^31 - 1  |\n",
    "| `int64`  | 64-bit signed   | -2^63 to 2^63 - 1  |\n",
    "| `uint8`  | 8-bit unsigned  | 0 to 255           |\n",
    "| `uint16` | 16-bit unsigned | 0 to 65,535        |\n",
    "| `uint32` | 32-bit unsigned | 0 to 4,294,967,295 |\n",
    "| `uint64` | 64-bit unsigned | 0 to 2^64 - 1      |\n",
    "\n",
    "#### b. Float (bilangan desimal)\n",
    "\n",
    "| Tipe      | Ukuran       | Keterangan               |\n",
    "| --------- | ------------ | ------------------------ |\n",
    "| `float16` | 16-bit float | Presisi rendah           |\n",
    "| `float32` | 32-bit float | Presisi sedang (default) |\n",
    "| `float64` | 64-bit float | Presisi tinggi           |\n",
    "\n",
    "---\n",
    "\n",
    "### 🔢 **2. Tipe Kompleks**\n",
    "\n",
    "Digunakan untuk bilangan kompleks: `a + bj`\n",
    "\n",
    "* `complex64`  → Real dan imaginary: 2 × 32-bit float\n",
    "* `complex128` → Real dan imaginary: 2 × 64-bit float\n",
    "\n",
    "---\n",
    "\n",
    "### 🔤 **3. Tipe String**\n",
    "\n",
    "* `str_`  → Unicode string (panjang tetap)\n",
    "* `bytes_` → Byte string\n",
    "\n",
    "Contoh:\n",
    "\n",
    "```python\n",
    "np.array([\"halo\", \"dunia\"], dtype=np.str_)\n",
    "```\n",
    "\n",
    "---\n",
    "\n",
    "### 📅 **4. Tipe Waktu dan Tanggal**\n",
    "\n",
    "* `datetime64` → Representasi waktu (misalnya `'2025-07-04'`)\n",
    "* `timedelta64` → Durasi atau selisih waktu\n",
    "\n",
    "---\n",
    "\n",
    "### ✅ **5. Boolean**\n",
    "\n",
    "* `bool_` → Hanya `True` atau `False`\n",
    "\n",
    "---\n",
    "\n",
    "### 🧬 **6. Object**\n",
    "\n",
    "* `object_` → Untuk menyimpan objek Python bebas (misalnya campur string & angka)\n",
    "\n",
    "```python\n",
    "np.array([1, 'hello', True], dtype=object)\n",
    "```\n",
    "\n",
    "---\n",
    "\n",
    "### 🔍 Melihat tipe data suatu array\n",
    "\n",
    "```python\n",
    "arr = np.array([1, 2, 3])\n",
    "print(arr.dtype)  # int64 (tergantung sistem)\n",
    "\n",
    "arr2 = np.array([1.0, 2.0])\n",
    "print(arr2.dtype)  # float64\n",
    "```\n",
    "\n",
    "---\n",
    "\n",
    "Kalau kamu mau, aku bisa bantu buatkan tabel ringkasan dalam format gambar juga. Mau?\n"
   ]
  },
  {
   "cell_type": "code",
   "execution_count": 7,
   "id": "aee6221b",
   "metadata": {},
   "outputs": [
    {
     "name": "stdout",
     "output_type": "stream",
     "text": [
      "int64\n"
     ]
    }
   ],
   "source": [
    "print(a.dtype)"
   ]
  },
  {
   "cell_type": "code",
   "execution_count": 8,
   "id": "4a4dec93",
   "metadata": {},
   "outputs": [
    {
     "name": "stdout",
     "output_type": "stream",
     "text": [
      "<U8\n",
      "<U1\n"
     ]
    }
   ],
   "source": [
    "# contoh 2 tipe data dengan unicode string\n",
    "arr_1 = np.array(['rambutan', 'apel', 'jeruk'])\n",
    "print(arr_1.dtype)\n",
    "arr_1 = np.array(['r', 'a', 'j'])\n",
    "print(arr_1.dtype)"
   ]
  },
  {
   "cell_type": "code",
   "execution_count": 9,
   "id": "81514e51",
   "metadata": {},
   "outputs": [
    {
     "name": "stdout",
     "output_type": "stream",
     "text": [
      "[b'1' b'2' b'3' b'4']\n",
      "|S1\n"
     ]
    }
   ],
   "source": [
    "#contoh 3 tipe data yang didefinisikan\n",
    "arr_2 = np.array([1, 2, 3, 4], dtype='S')\n",
    "\n",
    "print(arr_2)\n",
    "print(arr_2.dtype)"
   ]
  },
  {
   "cell_type": "markdown",
   "id": "2a5835a4",
   "metadata": {},
   "source": [
    "👍 Bagus, kamu menemukan salah satu tipe string **khusus** di NumPy, yaitu **`dtype='S'`**.\n",
    "\n",
    "---\n",
    "\n",
    "### 🔤 `dtype='S'` artinya:\n",
    "\n",
    "Tipe data **byte string** alias **string dalam bentuk bytes**, bukan Unicode.\n",
    "Disimpan dalam format `bytes`, mirip seperti `b'hello'` di Python.\n",
    "\n",
    "---\n",
    "\n",
    "### 🧪 Contoh:\n",
    "\n",
    "```python\n",
    "import numpy as np\n",
    "\n",
    "arr_2 = np.array([1, 2, 3, 4], dtype='S')\n",
    "print(arr_2)         # [b'1' b'2' b'3' b'4']\n",
    "print(arr_2.dtype)   # |S1\n",
    "```\n",
    "\n",
    "Penjelasan `|S1`:\n",
    "\n",
    "* `S` → string bytes\n",
    "* `1` → maksimal 1 byte per elemen (karena angka 1–9 cuma 1 karakter)\n",
    "* `|` → byte-order (tidak penting untuk string)\n",
    "\n",
    "---\n",
    "\n",
    "### ⚠️ Ciri-ciri `S` (byte string):\n",
    "\n",
    "* Isinya berupa `b'string'`, bukan `'string'` biasa.\n",
    "* **Bukan Unicode**, jadi tidak bisa langsung menyimpan karakter non-ASCII seperti `'é'`, `'あ'`, atau `'😊'`.\n",
    "* Lebih ringan dan cepat untuk teks ASCII sederhana.\n",
    "\n",
    "---\n",
    "\n",
    "### 💡 Perbandingan:\n",
    "\n",
    "```python\n",
    "# Unicode string\n",
    "arr_unicode = np.array(['hello'], dtype='U')\n",
    "print(arr_unicode)   # ['hello']\n",
    "print(arr_unicode.dtype)  # <U5\n",
    "\n",
    "# Byte string\n",
    "arr_bytes = np.array(['hello'], dtype='S')\n",
    "print(arr_bytes)     # [b'hello']\n",
    "print(arr_bytes.dtype)  # |S5\n",
    "```\n",
    "\n",
    "---\n",
    "\n",
    "### 🧠 Kapan pakai `'S'`?\n",
    "\n",
    "* Saat kamu **hanya butuh teks ASCII biasa** dan ingin **hemat memori**.\n",
    "* Tapi kalau kamu perlu dukungan karakter Unicode (misal `'你好'`, `'😊'`), **pakailah `'U'` atau `str`**.\n",
    "\n",
    "---\n",
    "\n",
    "Kalau kamu tertarik, bisa aku tunjukin juga contoh error saat karakter Unicode dimasukkan ke array `dtype='S'`. Mau?\n"
   ]
  },
  {
   "cell_type": "code",
   "execution_count": 10,
   "id": "ea40f0ec",
   "metadata": {},
   "outputs": [
    {
     "name": "stdout",
     "output_type": "stream",
     "text": [
      "[1 2 3]\n",
      "int32\n"
     ]
    }
   ],
   "source": [
    "#contoh 4 tipe data yang diubah\n",
    "arrs = np.array([1.1, 2.1, 3.1])\n",
    "\n",
    "newarr = arrs.astype('i')\n",
    "\n",
    "print(newarr)\n",
    "print(newarr.dtype)"
   ]
  },
  {
   "cell_type": "markdown",
   "id": "aa320a98",
   "metadata": {},
   "source": [
    "# Membuat array dari yang sudah ada "
   ]
  },
  {
   "cell_type": "code",
   "execution_count": null,
   "id": "f0e68ef0",
   "metadata": {},
   "outputs": [
    {
     "name": "stdout",
     "output_type": "stream",
     "text": [
      "<class 'list'>\n",
      "int64\n",
      "[1 2 3 4 5]\n"
     ]
    }
   ],
   "source": [
    "x = [1, 2, 3, 4, 5]\n",
    "print(type(x))\n",
    "# ini bisa bikin array yang sudah di init\n",
    "x = np.asarray(x)\n",
    "print(x.dtype)\n",
    "print(x)"
   ]
  },
  {
   "cell_type": "code",
   "execution_count": 13,
   "id": "8d1c1b33",
   "metadata": {},
   "outputs": [
    {
     "name": "stdout",
     "output_type": "stream",
     "text": [
      "<class 'list'>\n",
      "float32\n",
      "[1. 2. 3. 4. 5.]\n"
     ]
    }
   ],
   "source": [
    "x = [1, 2, 3, 4, 5]\n",
    "print(type(x))\n",
    "x = np.asarray(x, dtype=\"f\")\n",
    "print(x.dtype)\n",
    "print(x)"
   ]
  },
  {
   "cell_type": "code",
   "execution_count": 17,
   "id": "92304c52",
   "metadata": {},
   "outputs": [
    {
     "name": "stdout",
     "output_type": "stream",
     "text": [
      "[(1, 2, 3, 4, 5), (6, 7, 8, 9, 10)]\n",
      "[[ 1  2  3  4  5]\n",
      " [ 6  7  8  9 10]]\n"
     ]
    }
   ],
   "source": [
    "a = (1, 2, 3, 4, 5)\n",
    "b = (6, 7, 8, 9, 10)\n",
    "\n",
    "ab = [a, b]\n",
    "print(ab)\n",
    "\n",
    "ab_array_np = np.asarray(ab)\n",
    "print(ab_array_np)"
   ]
  }
 ],
 "metadata": {
  "kernelspec": {
   "display_name": "base",
   "language": "python",
   "name": "python3"
  },
  "language_info": {
   "codemirror_mode": {
    "name": "ipython",
    "version": 3
   },
   "file_extension": ".py",
   "mimetype": "text/x-python",
   "name": "python",
   "nbconvert_exporter": "python",
   "pygments_lexer": "ipython3",
   "version": "3.12.4"
  }
 },
 "nbformat": 4,
 "nbformat_minor": 5
}
