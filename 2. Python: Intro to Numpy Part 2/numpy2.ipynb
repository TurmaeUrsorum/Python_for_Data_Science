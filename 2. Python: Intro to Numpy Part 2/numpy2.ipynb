{
 "cells": [
  {
   "cell_type": "code",
   "execution_count": 2,
   "id": "149dd241",
   "metadata": {},
   "outputs": [],
   "source": [
    "import numpy as np"
   ]
  },
  {
   "cell_type": "markdown",
   "id": "8c25cb60",
   "metadata": {},
   "source": [
    "# Slicing dan Indexing\n",
    "\n",
    "`# Slicing and Indexing` di NumPy berarti **mengambil sebagian data dari array**, baik satu elemen, beberapa elemen, satu baris, satu kolom, atau bagian-bagian tertentu.\n",
    "\n",
    "🧠 Ini sangat penting karena NumPy dipakai untuk manipulasi data numerik dan array besar. Dengan **indexing dan slicing**, kamu bisa mengakses atau mengubah data secara efisien.\n",
    "\n",
    "---\n",
    "\n",
    "## 📌 1. **Indexing**: Mengakses elemen spesifik\n",
    "\n",
    "```python\n",
    "import numpy as np\n",
    "\n",
    "arr = np.array([10, 20, 30, 40])\n",
    "\n",
    "print(arr[0])  # 10 (elemen pertama)\n",
    "print(arr[-1]) # 40 (elemen terakhir)\n",
    "```\n",
    "\n",
    "### Untuk array 2D:\n",
    "\n",
    "```python\n",
    "mat = np.array([[1, 2, 3],\n",
    "                [4, 5, 6]])\n",
    "\n",
    "print(mat[0, 1])  # 2 (baris 0, kolom 1)\n",
    "print(mat[1, 2])  # 6 (baris 1, kolom 2)\n",
    "```\n",
    "\n",
    "---\n",
    "\n",
    "## 📌 2. **Slicing**: Mengambil rentang elemen\n",
    "\n",
    "### Satu dimensi:\n",
    "\n",
    "```python\n",
    "arr = np.array([10, 20, 30, 40, 50])\n",
    "\n",
    "print(arr[1:4])  # [20 30 40]\n",
    "print(arr[:3])   # [10 20 30]\n",
    "print(arr[::2])  # [10 30 50] (loncatan 2)\n",
    "```\n",
    "\n",
    "### Dua dimensi (2D array):\n",
    "\n",
    "```python\n",
    "mat = np.array([[1, 2, 3],\n",
    "                [4, 5, 6],\n",
    "                [7, 8, 9]])\n",
    "\n",
    "print(mat[0:2, 1:])  # ambil baris 0-1, kolom 1-end\n",
    "# [[2 3]\n",
    "#  [5 6]]\n",
    "```\n",
    "\n",
    "---\n",
    "\n",
    "## 📌 3. **Mengambil baris atau kolom tertentu**\n",
    "\n",
    "```python\n",
    "print(mat[1, :])   # baris ke-1: [4 5 6]\n",
    "print(mat[:, 2])   # kolom ke-2: [3 6 9]\n",
    "```\n",
    "\n",
    "---\n",
    "\n",
    "## 📌 4. **Boolean indexing**\n",
    "\n",
    "```python\n",
    "arr = np.array([10, 15, 20, 25])\n",
    "print(arr[arr > 15])  # [20 25]\n",
    "```\n",
    "\n",
    "---\n",
    "\n",
    "## 📌 5. **Fancy indexing (pakai array index)**\n",
    "\n",
    "```python\n",
    "arr = np.array([100, 200, 300, 400])\n",
    "print(arr[[0, 3]])  # [100 400]\n",
    "```\n",
    "\n",
    "---\n",
    "\n",
    "## 🎯 Kesimpulan\n",
    "\n",
    "| Teknik          | Contoh               | Artinya          |\n",
    "| --------------- | -------------------- | ---------------- |\n",
    "| `arr[2]`        | Elemen ke-3          | Indexing         |\n",
    "| `arr[1:4]`      | Elemen 1–3           | Slicing          |\n",
    "| `mat[0, 2]`     | Baris 0, kolom 2     | Index 2D         |\n",
    "| `mat[:, 0]`     | Semua baris, kolom 0 | Kolom pertama    |\n",
    "| `arr[arr > 10]` | Elemen > 10          | Boolean indexing |\n",
    "| `arr[[0, 2]]`   | Index ke-0 dan ke-2  | Fancy indexing   |\n",
    "\n",
    "---\n",
    "\n",
    "Mau aku buatin gambar visual dari slicing di array 2D biar makin gampang paham?\n"
   ]
  },
  {
   "cell_type": "code",
   "execution_count": 4,
   "id": "0734a99d",
   "metadata": {},
   "outputs": [
    {
     "name": "stdout",
     "output_type": "stream",
     "text": [
      "[0 1 2 3 4 5 6 7 8 9]\n",
      "5\n"
     ]
    }
   ],
   "source": [
    "# contoh 1 index tunggal, field index\n",
    "a = np.arange(10) \n",
    "print(a)\n",
    "b = a[5] \n",
    "print(b)"
   ]
  },
  {
   "cell_type": "code",
   "execution_count": 5,
   "id": "e96da5a6",
   "metadata": {},
   "outputs": [
    {
     "name": "stdout",
     "output_type": "stream",
     "text": [
      "[0 1 2 3 4 5 6 7 8 9]\n",
      "[2 4 6]\n"
     ]
    }
   ],
   "source": [
    "# Contoh 2\n",
    "a = np.arange(10) \n",
    "print(a)\n",
    "s = slice(2,7,2) \n",
    "print(a[s])"
   ]
  },
  {
   "cell_type": "code",
   "execution_count": 6,
   "id": "63b14257",
   "metadata": {},
   "outputs": [
    {
     "name": "stdout",
     "output_type": "stream",
     "text": [
      "[2 4 6]\n"
     ]
    }
   ],
   "source": [
    "#contoh 3\n",
    "a = np.arange(10) \n",
    "b = a[2:7:2] \n",
    "print(b)"
   ]
  },
  {
   "cell_type": "code",
   "execution_count": 7,
   "id": "61ae2fa9",
   "metadata": {},
   "outputs": [
    {
     "name": "stdout",
     "output_type": "stream",
     "text": [
      "[0 1 2 3 4 5 6 7 8 9]\n",
      "[2 3 4 5 6 7 8 9]\n"
     ]
    }
   ],
   "source": [
    "#contoh 4 slicing index hanya dengan menggunakan parameter start\n",
    "a = np.arange(10) \n",
    "print(a)\n",
    "print(a[2:])"
   ]
  },
  {
   "cell_type": "code",
   "execution_count": 8,
   "id": "904a475e",
   "metadata": {},
   "outputs": [
    {
     "name": "stdout",
     "output_type": "stream",
     "text": [
      "[0 1 2 3 4 5 6 7 8 9]\n",
      "[2 3 4]\n"
     ]
    }
   ],
   "source": [
    "#contoh 5 slicing menggunakan start dan stop index\n",
    "a = np.arange(10) \n",
    "print(a)\n",
    "print(a[2:5])"
   ]
  },
  {
   "cell_type": "code",
   "execution_count": 9,
   "id": "44832b37",
   "metadata": {},
   "outputs": [
    {
     "name": "stdout",
     "output_type": "stream",
     "text": [
      "[[1 2 3]\n",
      " [3 4 5]\n",
      " [4 5 6]]\n",
      "slice array dari index a[1:]\n",
      "[[3 4 5]\n",
      " [4 5 6]]\n"
     ]
    }
   ],
   "source": [
    "#contoh 6 slicing pada array dua dimensi\n",
    "a = np.array([[1,2,3],[3,4,5],[4,5,6]]) \n",
    "print(a)\n",
    "\n",
    "# slice items starting from index\n",
    "print('slice array dari index a[1:]') \n",
    "print(a[1:])"
   ]
  },
  {
   "cell_type": "code",
   "execution_count": null,
   "id": "74f6ec31",
   "metadata": {},
   "outputs": [],
   "source": [
    "#contoh 7 menggunakan ellipsis (...)\n",
    "a = np.array([[1,2,3],\n",
    "              [3,4,5],\n",
    "              [4,5,6]]) \n",
    "\n",
    "print('Array kita:') \n",
    "print(a) \n",
    "print('\\n')  \n",
    "\n",
    "# ini mengembalikan item di kolom kedua dari array utama \n",
    "print('item dari kolom kedua:')  \n",
    "print(a[...,1]) \n",
    "print('\\n')  \n",
    "\n",
    "# slice semua item dari baris kedua \n",
    "print('Item dari baris kedua:') \n",
    "print(a[1,...]) \n",
    "print('\\n')  \n",
    "\n",
    "# kita akan slice item dari kolom 1 dan seterusnya\n",
    "print('item dari kolom 1 dan seterusnya:') \n",
    "print(a[...,1:])\n"
   ]
  },
  {
   "cell_type": "markdown",
   "id": "35c34af6",
   "metadata": {},
   "source": [
    "Study Case \n",
    "1. Buat array 2 dimensi dengan shape=(3,4)\n",
    "2. Index dengan mengambil item dari baris kedua dan seterusnya sampai bariss terakhir\n",
    "3. Index dengan mengambil item dari kolom 1 dan 2"
   ]
  },
  {
   "cell_type": "code",
   "execution_count": 13,
   "id": "a9b398f7",
   "metadata": {},
   "outputs": [
    {
     "name": "stdout",
     "output_type": "stream",
     "text": [
      "[[3 4 5 8]\n",
      " [4 5 6 9]]\n"
     ]
    }
   ],
   "source": [
    "a = np.array([[1,2,3,7],\n",
    "              [3,4,5,8],\n",
    "              [4,5,6,9]])\n",
    "\n",
    "slicing_1 = a[1:,...]\n",
    "print(slicing_1)\n",
    "\n",
    "slicing_2 = a[..., :2]\n",
    "# print(slicing_2)"
   ]
  }
 ],
 "metadata": {
  "kernelspec": {
   "display_name": "base",
   "language": "python",
   "name": "python3"
  },
  "language_info": {
   "codemirror_mode": {
    "name": "ipython",
    "version": 3
   },
   "file_extension": ".py",
   "mimetype": "text/x-python",
   "name": "python",
   "nbconvert_exporter": "python",
   "pygments_lexer": "ipython3",
   "version": "3.12.4"
  }
 },
 "nbformat": 4,
 "nbformat_minor": 5
}
