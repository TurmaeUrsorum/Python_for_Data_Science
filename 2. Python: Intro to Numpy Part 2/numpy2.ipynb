{
 "cells": [
  {
   "cell_type": "code",
   "execution_count": 1,
   "id": "149dd241",
   "metadata": {},
   "outputs": [],
   "source": [
    "import numpy as np\n",
    "# mencoba numpy yang kedua"
   ]
  },
  {
   "cell_type": "markdown",
   "id": "8c25cb60",
   "metadata": {},
   "source": [
    "# Slicing dan Indexing\n",
    "\n",
    "`# Slicing and Indexing` di NumPy berarti **mengambil sebagian data dari array**, baik satu elemen, beberapa elemen, satu baris, satu kolom, atau bagian-bagian tertentu.\n",
    "\n",
    "🧠 Ini sangat penting karena NumPy dipakai untuk manipulasi data numerik dan array besar. Dengan **indexing dan slicing**, kamu bisa mengakses atau mengubah data secara efisien.\n",
    "\n",
    "---\n",
    "\n",
    "## 📌 1. **Indexing**: Mengakses elemen spesifik\n",
    "\n",
    "```python\n",
    "import numpy as np\n",
    "\n",
    "arr = np.array([10, 20, 30, 40])\n",
    "\n",
    "print(arr[0])  # 10 (elemen pertama)\n",
    "print(arr[-1]) # 40 (elemen terakhir)\n",
    "```\n",
    "\n",
    "### Untuk array 2D:\n",
    "\n",
    "```python\n",
    "mat = np.array([[1, 2, 3],\n",
    "                [4, 5, 6]])\n",
    "\n",
    "print(mat[0, 1])  # 2 (baris 0, kolom 1)\n",
    "print(mat[1, 2])  # 6 (baris 1, kolom 2)\n",
    "```\n",
    "\n",
    "---\n",
    "\n",
    "## 📌 2. **Slicing**: Mengambil rentang elemen\n",
    "\n",
    "### Satu dimensi:\n",
    "\n",
    "```python\n",
    "arr = np.array([10, 20, 30, 40, 50])\n",
    "\n",
    "print(arr[1:4])  # [20 30 40]\n",
    "print(arr[:3])   # [10 20 30]\n",
    "print(arr[::2])  # [10 30 50] (loncatan 2)\n",
    "```\n",
    "\n",
    "### Dua dimensi (2D array):\n",
    "\n",
    "```python\n",
    "mat = np.array([[1, 2, 3],\n",
    "                [4, 5, 6],\n",
    "                [7, 8, 9]])\n",
    "\n",
    "print(mat[0:2, 1:])  # ambil baris 0-1, kolom 1-end\n",
    "# [[2 3]\n",
    "#  [5 6]]\n",
    "```\n",
    "\n",
    "---\n",
    "\n",
    "## 📌 3. **Mengambil baris atau kolom tertentu**\n",
    "\n",
    "```python\n",
    "print(mat[1, :])   # baris ke-1: [4 5 6]\n",
    "print(mat[:, 2])   # kolom ke-2: [3 6 9]\n",
    "```\n",
    "\n",
    "---\n",
    "\n",
    "## 📌 4. **Boolean indexing**\n",
    "\n",
    "```python\n",
    "arr = np.array([10, 15, 20, 25])\n",
    "print(arr[arr > 15])  # [20 25]\n",
    "```\n",
    "\n",
    "---\n",
    "\n",
    "## 📌 5. **Fancy indexing (pakai array index)**\n",
    "\n",
    "```python\n",
    "arr = np.array([100, 200, 300, 400])\n",
    "print(arr[[0, 3]])  # [100 400]\n",
    "```\n",
    "\n",
    "---\n",
    "\n",
    "## 🎯 Kesimpulan\n",
    "\n",
    "| Teknik          | Contoh               | Artinya          |\n",
    "| --------------- | -------------------- | ---------------- |\n",
    "| `arr[2]`        | Elemen ke-3          | Indexing         |\n",
    "| `arr[1:4]`      | Elemen 1–3           | Slicing          |\n",
    "| `mat[0, 2]`     | Baris 0, kolom 2     | Index 2D         |\n",
    "| `mat[:, 0]`     | Semua baris, kolom 0 | Kolom pertama    |\n",
    "| `arr[arr > 10]` | Elemen > 10          | Boolean indexing |\n",
    "| `arr[[0, 2]]`   | Index ke-0 dan ke-2  | Fancy indexing   |\n",
    "\n",
    "---\n",
    "\n",
    "Mau aku buatin gambar visual dari slicing di array 2D biar makin gampang paham?\n"
   ]
  },
  {
   "cell_type": "code",
   "execution_count": 2,
   "id": "0734a99d",
   "metadata": {},
   "outputs": [
    {
     "name": "stdout",
     "output_type": "stream",
     "text": [
      "[0 1 2 3 4 5 6 7 8 9]\n",
      "5\n"
     ]
    }
   ],
   "source": [
    "# contoh 1 index tunggal, field index\n",
    "a = np.arange(10) \n",
    "print(a)\n",
    "b = a[5] \n",
    "print(b)"
   ]
  },
  {
   "cell_type": "code",
   "execution_count": 3,
   "id": "e96da5a6",
   "metadata": {},
   "outputs": [
    {
     "name": "stdout",
     "output_type": "stream",
     "text": [
      "[0 1 2 3 4 5 6 7 8 9]\n",
      "[2 4 6]\n"
     ]
    }
   ],
   "source": [
    "# Contoh 2\n",
    "a = np.arange(10) \n",
    "print(a)\n",
    "s = slice(2,7,2) \n",
    "print(a[s])"
   ]
  },
  {
   "cell_type": "code",
   "execution_count": 4,
   "id": "63b14257",
   "metadata": {},
   "outputs": [
    {
     "name": "stdout",
     "output_type": "stream",
     "text": [
      "[2 4 6]\n"
     ]
    }
   ],
   "source": [
    "#contoh 3\n",
    "a = np.arange(10)\n",
    "# a[start:stop:step]\n",
    "b = a[2:7:2] \n",
    "print(b)"
   ]
  },
  {
   "cell_type": "code",
   "execution_count": 5,
   "id": "61ae2fa9",
   "metadata": {},
   "outputs": [
    {
     "name": "stdout",
     "output_type": "stream",
     "text": [
      "[0 1 2 3 4 5 6 7 8 9]\n",
      "[2 3 4 5 6 7 8 9]\n"
     ]
    }
   ],
   "source": [
    "#contoh 4 slicing index hanya dengan menggunakan parameter start\n",
    "a = np.arange(10) \n",
    "print(a)\n",
    "# ini ngambil index ke dua sampai akhir\n",
    "print(a[2:])"
   ]
  },
  {
   "cell_type": "code",
   "execution_count": 6,
   "id": "904a475e",
   "metadata": {},
   "outputs": [
    {
     "name": "stdout",
     "output_type": "stream",
     "text": [
      "[0 1 2 3 4 5 6 7 8 9]\n",
      "[2 3 4]\n"
     ]
    }
   ],
   "source": [
    "#contoh 5 slicing menggunakan start dan stop index\n",
    "a = np.arange(10) \n",
    "print(a)\n",
    "# ini ngambil rentang index kedua sampai ke lima, tapi ke lima kagak di ambil\n",
    "print(a[2:5])"
   ]
  },
  {
   "cell_type": "code",
   "execution_count": 7,
   "id": "44832b37",
   "metadata": {},
   "outputs": [
    {
     "name": "stdout",
     "output_type": "stream",
     "text": [
      "[[1 2 3]\n",
      " [3 4 5]\n",
      " [4 5 6]]\n",
      "slice array dari index a[1:]\n",
      "[[3 4 5]\n",
      " [4 5 6]]\n"
     ]
    }
   ],
   "source": [
    "#contoh 6 slicing pada array dua dimensi\n",
    "a = np.array([[1,2,3],[3,4,5],[4,5,6]]) \n",
    "print(a)\n",
    "\n",
    "# slice items starting from index\n",
    "print('slice array dari index a[1:]')\n",
    "# kalau array nya berbentuk 2 dimensi atau table atau matriks\n",
    "# a[baris:kolom]\n",
    "print(a[1:])"
   ]
  },
  {
   "cell_type": "code",
   "execution_count": 8,
   "id": "74f6ec31",
   "metadata": {},
   "outputs": [
    {
     "name": "stdout",
     "output_type": "stream",
     "text": [
      "Array kita:\n",
      "[[1 2 3]\n",
      " [3 4 5]\n",
      " [4 5 6]]\n",
      "\n",
      "\n",
      "item dari kolom kedua:\n",
      "[2 4 5]\n",
      "\n",
      "\n",
      "Item dari baris kedua:\n",
      "[3 4 5]\n",
      "\n",
      "\n",
      "item dari kolom 1 dan seterusnya:\n",
      "[[2 3]\n",
      " [4 5]\n",
      " [5 6]]\n",
      "ambil nilai 4\n",
      "4\n"
     ]
    }
   ],
   "source": [
    "#contoh 7 menggunakan ellipsis (...)\n",
    "a = np.array([[1,2,3],\n",
    "              [3,4,5],\n",
    "              [4,5,6]]) \n",
    "\n",
    "print('Array kita:') \n",
    "print(a) \n",
    "print('\\n')  \n",
    "\n",
    "# ini mengembalikan item di kolom kedua dari array utama \n",
    "print('item dari kolom kedua:')\n",
    "# mengambil baris atau kolom bisa di abaikan\n",
    "# kek a[..., 1] gitu\n",
    "# bisa sebalik nya a[1, ...]\n",
    "# ini untuk ngambil kolom\n",
    "print(a[...,1]) \n",
    "print('\\n')  \n",
    "\n",
    "# slice semua item dari baris kedua \n",
    "print('Item dari baris kedua:') \n",
    "# ini untuk ngambil baris\n",
    "print(a[1,...]) \n",
    "print('\\n')  \n",
    "\n",
    "# kita akan slice item dari kolom 1 dan seterusnya\n",
    "print('item dari kolom 1 dan seterusnya:')\n",
    "# ini ngabil kolom/atau baris bisa pakai metode 1 dims/vektor \n",
    "# pake a[start:stop:step]\n",
    "# jadi bisa gini a[start:stop:step, start:stop:step]\n",
    "print(a[...,1:])\n",
    "\n",
    "print(\"ambil nilai 4\")\n",
    "print(a[1, 1])\n"
   ]
  },
  {
   "cell_type": "markdown",
   "id": "35c34af6",
   "metadata": {},
   "source": [
    "Study Case\n",
    "\n",
    "1. Buat array 2 dimensi dengan shape=(3,4)\n",
    "2. Index dengan mengambil item dari baris kedua dan seterusnya sampai bariss terakhir\n",
    "3. Index dengan mengambil item dari kolom 1 dan 2\n"
   ]
  },
  {
   "cell_type": "code",
   "execution_count": 9,
   "id": "a9b398f7",
   "metadata": {},
   "outputs": [
    {
     "name": "stdout",
     "output_type": "stream",
     "text": [
      "[[3 4 5 8]\n",
      " [4 5 6 9]]\n"
     ]
    }
   ],
   "source": [
    "a = np.array([[1,2,3,7],\n",
    "              [3,4,5,8],\n",
    "              [4,5,6,9]])\n",
    "\n",
    "slicing_1 = a[1:,...]\n",
    "print(slicing_1)\n",
    "\n",
    "slicing_2 = a[..., :2]\n",
    "# print(slicing_2)\n",
    "\n",
    "# numpy dua belum selesai\n",
    "#mantap jiwa\n",
    "# belom selesai juga bang\n",
    "# checkpoint sampai sini "
   ]
  },
  {
   "cell_type": "markdown",
   "id": "7c3c3590",
   "metadata": {},
   "source": [
    "## Advance Indexing\n"
   ]
  },
  {
   "cell_type": "markdown",
   "id": "031621d2",
   "metadata": {},
   "source": [
    "### Integer Indexing di NumPy\n",
    "\n",
    "**Integer indexing** adalah teknik indexing (pengambilan elemen array) di NumPy dengan menggunakan **indeks bilangan bulat (integer)**, baik satu dimensi maupun banyak dimensi.\n",
    "\n",
    "Kalau kamu sudah paham slicing (`a[1:3, :]`), maka integer indexing ini sedikit berbeda karena memungkinkan kita untuk **mengambil elemen secara bebas di posisi tertentu**, bukan range.\n",
    "\n",
    "---\n",
    "\n",
    "### Contoh Dasar\n",
    "\n",
    "Misalnya kamu punya array 2 dimensi:\n",
    "\n",
    "```python\n",
    "import numpy as np\n",
    "\n",
    "a = np.array([[10, 20, 30],\n",
    "              [40, 50, 60],\n",
    "              [70, 80, 90]])\n",
    "```\n",
    "\n",
    "#### 1. Mengambil elemen spesifik (dengan 1 indeks untuk setiap dimensi)\n",
    "\n",
    "```python\n",
    "# Ambil elemen baris ke-0 kolom ke-2\n",
    "print(a[0, 2])  # Output: 30\n",
    "```\n",
    "\n",
    "#### 2. Integer indexing dalam bentuk array\n",
    "\n",
    "```python\n",
    "# Ambil elemen dari posisi (0,0), (1,1), (2,2)\n",
    "baris = np.array([0, 1, 2])\n",
    "kolom = np.array([0, 1, 2])\n",
    "print(a[baris, kolom])  # Output: [10 50 90]\n",
    "```\n",
    "\n",
    "> Ini seperti mengambil **diagonal utama** dari matriks.\n",
    "\n",
    "---\n",
    "\n",
    "### Integer Indexing vs Slicing\n",
    "\n",
    "```python\n",
    "# Slicing: ambil seluruh baris pertama\n",
    "print(a[0, :])  # [10 20 30]\n",
    "\n",
    "# Integer indexing: ambil elemen di kolom 0, 1, 2 tapi hanya dari baris 0\n",
    "print(a[0, [0, 1, 2]])  # [10 20 30]\n",
    "\n",
    "# Integer indexing: ambil (0,1), (1,1), (2,1)\n",
    "print(a[[0,1,2], 1])  # [20 50 80]\n",
    "```\n",
    "\n",
    "---\n",
    "\n",
    "### Gunanya integer indexing?\n",
    "\n",
    "- Mengakses elemen spesifik secara fleksibel\n",
    "- Berguna untuk mengambil subset berdasarkan kondisi/logika lain\n",
    "- Digabung dengan boolean indexing untuk filtering lanjutan\n",
    "\n",
    "---\n",
    "\n",
    "Kalau kamu mau contoh study case-nya juga (misalnya untuk klasifikasi, pengolahan data, dll), tinggal bilang aja ya!\n"
   ]
  },
  {
   "cell_type": "code",
   "execution_count": 10,
   "id": "e4ca5308",
   "metadata": {},
   "outputs": [
    {
     "name": "stdout",
     "output_type": "stream",
     "text": [
      "[1 4 5]\n"
     ]
    }
   ],
   "source": [
    "#contoh 1 mengakses element dari array dua dimensi dengan menentukan baris dan kolom yang disalin\n",
    "x = np.array([[1, 2], \n",
    "              [3, 4], \n",
    "              [5, 6]]) \n",
    "y = x[[0,1,2], [0,1,0]] \n",
    "print(y)"
   ]
  },
  {
   "cell_type": "code",
   "execution_count": 11,
   "id": "e6817e6f",
   "metadata": {},
   "outputs": [
    {
     "name": "stdout",
     "output_type": "stream",
     "text": [
      "array asli:\n",
      "[[ 0  1  2]\n",
      " [ 3  4  5]\n",
      " [ 6  7  8]\n",
      " [ 9 10 11]]\n",
      "\n",
      "\n",
      "Hasil dari index integer:\n",
      "[[ 0  2]\n",
      " [ 9 11]]\n"
     ]
    }
   ],
   "source": [
    "#contoh 2 mengakses element dari array dua dimensi dengan menentukan baris dan kolom yang disalin\n",
    "x = np.array([[ 0,  1,  2],\n",
    "              [ 3,  4,  5],\n",
    "              [ 6,  7,  8],\n",
    "              [ 9, 10, 11]]) \n",
    "   \n",
    "print('array asli:') \n",
    "print(x) \n",
    "print('\\n') \n",
    "\n",
    "rows = np.array([[0,0],[3,3]]) #Baris pertama dan keempat\n",
    "cols = np.array([[0,2],[0,2]]) #Kolom pertama dan ketiga\n",
    "y = x[rows,cols] \n",
    "   \n",
    "print('Hasil dari index integer:') \n",
    "print(y)"
   ]
  },
  {
   "cell_type": "code",
   "execution_count": 12,
   "id": "f0c94e58",
   "metadata": {},
   "outputs": [
    {
     "name": "stdout",
     "output_type": "stream",
     "text": [
      "Array asli:\n",
      "[[ 0  1  2]\n",
      " [ 3  4  5]\n",
      " [ 6  7  8]\n",
      " [ 9 10 11]]\n",
      "\n",
      "\n",
      "setelah, hasil array menjadi:\n",
      "[[ 4  5]\n",
      " [ 7  8]\n",
      " [10 11]]\n",
      "\n",
      "\n",
      "slicing dengan advance index untuk column:\n",
      "[[ 4  5]\n",
      " [ 7  8]\n",
      " [10 11]]\n"
     ]
    }
   ],
   "source": [
    "#contoh 3\n",
    "x = np.array([[ 0,  1,  2],\n",
    "              [ 3,  4,  5],\n",
    "              [ 6,  7,  8],\n",
    "              [ 9, 10, 11]]) \n",
    "\n",
    "print('Array asli:')\n",
    "print(x) \n",
    "print('\\n')  \n",
    "\n",
    "# slicing \n",
    "z = x[1:4,1:3] \n",
    "\n",
    "print('setelah, hasil array menjadi:') \n",
    "print(z) \n",
    "print('\\n')  \n",
    "\n",
    "# using advanced index for column \n",
    "y = x[1:4,[1,2]] \n",
    "\n",
    "print('slicing dengan advance index untuk column:') \n",
    "print(y)\n",
    "\n",
    "# susah bjir ini numpy"
   ]
  },
  {
   "cell_type": "markdown",
   "id": "ab5386a6",
   "metadata": {},
   "source": [
    "# Bolean indexing "
   ]
  },
  {
   "cell_type": "code",
   "execution_count": 13,
   "id": "d175d079",
   "metadata": {},
   "outputs": [
    {
     "name": "stdout",
     "output_type": "stream",
     "text": [
      "array asli :\n",
      "[[ 0  1  2]\n",
      " [ 3  4  5]\n",
      " [ 6  7  8]\n",
      " [ 9 10 11]]\n",
      "\n",
      "\n",
      "item yang lebih besar dari lima :\n",
      "[ 6  7  8  9 10 11]\n"
     ]
    }
   ],
   "source": [
    "x = np.array([[ 0,  1,  2],\n",
    "              [ 3,  4,  5],\n",
    "              [ 6,  7,  8],\n",
    "              [ 9, 10, 11]]) \n",
    "\n",
    "print(\"array asli :\")\n",
    "print(x)\n",
    "print(\"\\n\")\n",
    "\n",
    "# ngambil item di atas angaka lima\n",
    "print(\"item yang lebih besar dari lima :\")\n",
    "print(x[x > 5])"
   ]
  },
  {
   "cell_type": "code",
   "execution_count": 14,
   "id": "3409fbf0",
   "metadata": {},
   "outputs": [
    {
     "name": "stdout",
     "output_type": "stream",
     "text": [
      "[nan nan]\n"
     ]
    }
   ],
   "source": [
    "#contoh 2\n",
    "# ngambil item yang nan doang\n",
    "a = np.array([np.nan, 1,2,np.nan,3,4,5]) \n",
    "print(a[np.isnan(a)])"
   ]
  },
  {
   "cell_type": "code",
   "execution_count": null,
   "id": "b53dd70f",
   "metadata": {},
   "outputs": [
    {
     "name": "stdout",
     "output_type": "stream",
     "text": [
      "[1.+0.j 5.+0.j]\n"
     ]
    }
   ],
   "source": [
    "#contoh 3\n",
    "# ngambil item yang bukan bilang komples\n",
    "# `~` untuk negasi\n",
    "a = np.array([1, 2+6j, 5, 3.5+5j]) \n",
    "print(a[~np.iscomplex(a)])"
   ]
  },
  {
   "cell_type": "markdown",
   "id": "7aa3f152",
   "metadata": {},
   "source": [
    "Study Case \n",
    "1. Buat array 2 dimensi dengan shape=(3,4) yang\n",
    "  isinya campuran antara complex, nan dan integer\n",
    "2. Ambil item dengan menggunakan index boolean khusus integer, nan dan complex"
   ]
  },
  {
   "cell_type": "code",
   "execution_count": 30,
   "id": "3217c580",
   "metadata": {},
   "outputs": [
    {
     "name": "stdout",
     "output_type": "stream",
     "text": [
      "[ 1.+0.j  4.+0.j  5.+0.j  6.+0.j  7.+0.j  9.+0.j 10.+0.j]\n",
      "[nan+0.j nan+0.j nan+0.j]\n",
      "[3.+2.j 8.+1.j]\n"
     ]
    },
    {
     "name": "stderr",
     "output_type": "stream",
     "text": [
      "/tmp/ipykernel_21750/2017132615.py:7: RuntimeWarning: invalid value encountered in greater\n",
      "  print(a[(a > 0) & (~np.iscomplex(a))])\n"
     ]
    }
   ],
   "source": [
    "a = np.array([\n",
    "    [1,      np.nan, 3+2j,   4],\n",
    "    [5,      6,       np.nan, 7+0j],\n",
    "    [8+1j,   9,       10,     np.nan]\n",
    "])\n",
    "\n",
    "print(a[(a > 0) & (~np.iscomplex(a))])\n",
    "print(a[np.isnan(a)])\n",
    "print(a[np.iscomplex(a)])"
   ]
  },
  {
   "cell_type": "markdown",
   "id": "5446248a",
   "metadata": {},
   "source": [
    "# Array Manipulation"
   ]
  },
  {
   "cell_type": "markdown",
   "id": "ef76f104",
   "metadata": {},
   "source": [
    "## Reshape"
   ]
  },
  {
   "cell_type": "code",
   "execution_count": null,
   "id": "66c811e4",
   "metadata": {},
   "outputs": [
    {
     "name": "stdout",
     "output_type": "stream",
     "text": [
      "Array asli:\n",
      "[0 1 2 3 4 5 6 7]\n",
      "\n",
      "\n",
      "Array yang telah di modifikasi:\n",
      "[[0 1]\n",
      " [2 3]\n",
      " [4 5]\n",
      " [6 7]]\n"
     ]
    }
   ],
   "source": [
    "a = np.arange(8)\n",
    "print('Array asli:')\n",
    "print(a)\n",
    "print('\\n')\n",
    "\n",
    "# ngerubah jadi 4 kali 2, ada 4 baris 2 kolom\n",
    "b = a.reshape(4,2)\n",
    "print('Array yang telah di modifikasi:')\n",
    "print(b)\n"
   ]
  },
  {
   "cell_type": "markdown",
   "id": "0fb05f95",
   "metadata": {},
   "source": [
    "# Perbedaan Flatten ama Ravel, Copy vs View\n",
    "\n",
    "Perbedaan utama antara `ravel()` dan `flatten()` di NumPy adalah pada **cara mereka menangani memori (copy vs view)**.\n",
    "\n",
    "---\n",
    "\n",
    "### ✅ **1. `flatten()`**\n",
    "\n",
    "* **Selalu mengembalikan salinan baru (copy)** dari array asli.\n",
    "* Perubahan pada array hasil `flatten()` **tidak memengaruhi** array asal.\n",
    "* Berlaku untuk semua array, apapun bentuknya (contiguous maupun tidak).\n",
    "\n",
    "```python\n",
    "a = np.array([[1, 2], [3, 4]])\n",
    "b = a.flatten()\n",
    "b[0] = 100\n",
    "\n",
    "print(a)  # [[1 2]\n",
    "          #  [3 4]] -> tidak berubah\n",
    "print(b)  # [100 2 3 4] -> berubah sendiri\n",
    "```\n",
    "\n",
    "---\n",
    "\n",
    "### ✅ **2. `ravel()`**\n",
    "\n",
    "* **Mengembalikan view (bukan salinan)** jika memungkinkan.\n",
    "* Jadi, perubahan pada hasil `ravel()` bisa **mengubah array asal**, *asalkan masih contiguous* di memori.\n",
    "* Kalau tidak bisa view, maka akan tetap bikin salinan (mirip `flatten()`).\n",
    "\n",
    "```python\n",
    "a = np.array([[1, 2], [3, 4]])\n",
    "b = a.ravel()\n",
    "b[0] = 100\n",
    "\n",
    "print(a)  # [[100   2]\n",
    "          #  [  3   4]] -> berubah!\n",
    "print(b)  # [100 2 3 4]\n",
    "```\n",
    "\n",
    "---\n",
    "\n",
    "### 🧠 Ringkasan:\n",
    "\n",
    "| Fitur            | `ravel()`                 | `flatten()`               |\n",
    "| ---------------- | ------------------------- | ------------------------- |\n",
    "| Return           | View jika bisa, else copy | Selalu copy               |\n",
    "| Memory efficient | ✅ Lebih hemat             | ❌ Tidak selalu hemat      |\n",
    "| Mutable effect   | Bisa ubah array asal      | Tidak mengubah array asal |\n",
    "| Kecepatan        | Biasanya lebih cepat      | Sedikit lebih lambat      |\n",
    "\n",
    "---\n",
    "\n",
    "### 🧪 Gunakan Kapan?\n",
    "\n",
    "* Pakai `ravel()` kalau kamu **tidak butuh salinan** dan ingin **efisiensi**.\n",
    "* Pakai `flatten()` kalau kamu **ingin pastikan hasilnya terpisah dari array asli**.\n",
    "\n",
    "Mau aku tunjukin juga kapan `ravel()` jadi copy, bukan view?\n"
   ]
  },
  {
   "cell_type": "markdown",
   "id": "1a6ec8d4",
   "metadata": {},
   "source": [
    "## Flatten"
   ]
  },
  {
   "cell_type": "code",
   "execution_count": 32,
   "id": "165b18b1",
   "metadata": {},
   "outputs": [
    {
     "name": "stdout",
     "output_type": "stream",
     "text": [
      "Array asli:\n",
      "[[0 1 2 3]\n",
      " [4 5 6 7]]\n",
      "\n",
      "\n",
      "Array yang telah di flattened:\n",
      "[0 1 2 3 4 5 6 7]\n",
      "\n",
      "\n",
      "flattened array dalam F-style ordering:\n",
      "[0 4 1 5 2 6 3 7]\n"
     ]
    }
   ],
   "source": [
    "a = np.arange(8).reshape(2,4) #take copy\n",
    "\n",
    "print('Array asli:')\n",
    "print(a) \n",
    "print('\\n')  \n",
    "\n",
    "\n",
    "print('Array yang telah di flattened:') \n",
    "print(a.flatten()) \n",
    "print('\\n')  \n",
    "\n",
    "print('flattened array dalam F-style ordering:')\n",
    "print(a.flatten(order = 'F'))"
   ]
  },
  {
   "cell_type": "markdown",
   "id": "a28665a5",
   "metadata": {},
   "source": [
    "### Ravel"
   ]
  },
  {
   "cell_type": "code",
   "execution_count": 33,
   "id": "1beb8296",
   "metadata": {},
   "outputs": [
    {
     "name": "stdout",
     "output_type": "stream",
     "text": [
      "Array asli:\n",
      "[[0 1 2 3]\n",
      " [4 5 6 7]]\n",
      "\n",
      "\n",
      "hasil dari fungsi ravel:\n",
      "[0 1 2 3 4 5 6 7]\n",
      "\n",
      "\n",
      "menggunakan ravel function dalam F-style ordering:\n",
      "[0 4 1 5 2 6 3 7]\n"
     ]
    }
   ],
   "source": [
    "a = np.arange(8).reshape(2,4) # only view\n",
    "\n",
    "print('Array asli:') \n",
    "print(a) \n",
    "print('\\n')  \n",
    "\n",
    "print('hasil dari fungsi ravel:') \n",
    "print(a.ravel())  \n",
    "print('\\n') \n",
    "\n",
    "print('menggunakan ravel function dalam F-style ordering:')\n",
    "print(a.ravel(order = 'F'))"
   ]
  },
  {
   "cell_type": "markdown",
   "id": "63861f23",
   "metadata": {},
   "source": [
    "## Operasi Transpos"
   ]
  },
  {
   "cell_type": "code",
   "execution_count": 35,
   "id": "632372dd",
   "metadata": {},
   "outputs": [
    {
     "name": "stdout",
     "output_type": "stream",
     "text": [
      "Array asli:\n",
      "[[ 0  1  2  3]\n",
      " [ 4  5  6  7]\n",
      " [ 8  9 10 11]]\n",
      "\n",
      "\n",
      "Array yang telah di transpos:\n",
      "[[ 0  4  8]\n",
      " [ 1  5  9]\n",
      " [ 2  6 10]\n",
      " [ 3  7 11]]\n",
      "\n",
      "\n",
      "Array yang telah di transpos dengan .T:\n",
      "[[ 0  4  8]\n",
      " [ 1  5  9]\n",
      " [ 2  6 10]\n",
      " [ 3  7 11]]\n"
     ]
    }
   ],
   "source": [
    "a = np.arange(12).reshape(3,4)\n",
    "\n",
    "# merubah dari bari ke kolom dan kolom jadi baris/ di puter se arah jarum jam\n",
    "\n",
    "print('Array asli:') \n",
    "print(a)  \n",
    "print('\\n') \n",
    "\n",
    "print('Array yang telah di transpos:') \n",
    "print(np.transpose(a)) #parameter dengan list int, sesuai dengan dimensi. Secara default, dimensi dibalik\n",
    "print('\\n') \n",
    "\n",
    "print('Array yang telah di transpos dengan .T:') \n",
    "print(a.T)"
   ]
  },
  {
   "cell_type": "markdown",
   "id": "df4a60b8",
   "metadata": {},
   "source": [
    "## Penggabungan array"
   ]
  },
  {
   "cell_type": "markdown",
   "id": "0a92c6b8",
   "metadata": {},
   "source": [
    "### concatenate"
   ]
  },
  {
   "cell_type": "code",
   "execution_count": null,
   "id": "6d2f0f19",
   "metadata": {},
   "outputs": [
    {
     "name": "stdout",
     "output_type": "stream",
     "text": [
      "Array Pertama:\n",
      "[[1 2]\n",
      " [3 4]]\n",
      "\n",
      "\n",
      "Array Kedua:\n",
      "[[5 6]\n",
      " [7 8]]\n",
      "\n",
      "\n",
      "gabungan dua array di sumbu 0:\n",
      "[[1 2]\n",
      " [3 4]\n",
      " [5 6]\n",
      " [7 8]]\n",
      "\n",
      "\n",
      "gabungan dua array di sumbu 1:\n",
      "[[1 2 5 6]\n",
      " [3 4 7 8]]\n"
     ]
    }
   ],
   "source": [
    "a = np.array([[1,2],[3,4]]) \n",
    "\n",
    "print('Array Pertama:')\n",
    "print(a) \n",
    "print('\\n')  \n",
    "b = np.array([[5,6],[7,8]]) \n",
    "\n",
    "print('Array Kedua:') \n",
    "print(b) \n",
    "print('\\n')  \n",
    "# both the arrays are of same dimensions \n",
    "\n",
    "# 0 itu vertikal\n",
    "# 1 itu horizontal\n",
    "print('gabungan dua array di sumbu 0:') \n",
    "print(np.concatenate((a,b)) )\n",
    "print('\\n') \n",
    "\n",
    "print('gabungan dua array di sumbu 1:') \n",
    "print(np.concatenate((a,b),axis = 1))"
   ]
  },
  {
   "cell_type": "markdown",
   "id": "9c8eb19b",
   "metadata": {},
   "source": [
    "### stack"
   ]
  },
  {
   "cell_type": "code",
   "execution_count": 38,
   "id": "e4eb99a9",
   "metadata": {},
   "outputs": [
    {
     "name": "stdout",
     "output_type": "stream",
     "text": [
      "Array Pertama:\n",
      "[[1 2]\n",
      " [3 4]]\n",
      "\n",
      "\n",
      "Array kedua:\n",
      "[[5 6]\n",
      " [7 8]]\n",
      "\n",
      "\n",
      "Stack dua array pada sumbu 0:\n",
      "[[[1 2]\n",
      "  [3 4]]\n",
      "\n",
      " [[5 6]\n",
      "  [7 8]]]\n",
      "\n",
      "\n",
      "Stack dua array pada sumbu 1:\n",
      "[[[1 2]\n",
      "  [5 6]]\n",
      "\n",
      " [[3 4]\n",
      "  [7 8]]]\n"
     ]
    }
   ],
   "source": [
    "a = np.array([[1,2],[3,4]]) \n",
    "\n",
    "print('Array Pertama:') \n",
    "print(a) \n",
    "print('\\n')\n",
    "\n",
    "\n",
    "b = np.array([[5,6],[7,8]]) \n",
    "\n",
    "print('Array kedua:') \n",
    "print(b) \n",
    "print('\\n')  \n",
    "\n",
    "print('Stack dua array pada sumbu 0:') \n",
    "print(np.stack((a,b),0) )\n",
    "print('\\n')  \n",
    "\n",
    "print('Stack dua array pada sumbu 1:') \n",
    "print(np.stack((a,b),1))"
   ]
  },
  {
   "cell_type": "markdown",
   "id": "22905844",
   "metadata": {},
   "source": [
    "### hstack\n",
    "kiri kanan"
   ]
  },
  {
   "cell_type": "code",
   "execution_count": 39,
   "id": "d6ce8db5",
   "metadata": {},
   "outputs": [
    {
     "name": "stdout",
     "output_type": "stream",
     "text": [
      "Array Pertama:\n",
      "[[1 2]\n",
      " [3 4]]\n",
      "\n",
      "\n",
      "Array Kedua:\n",
      "[[5 6]\n",
      " [7 8]]\n",
      "\n",
      "\n",
      "Horizontal stacking:\n",
      "[[1 2 5 6]\n",
      " [3 4 7 8]]\n",
      "\n",
      "\n"
     ]
    }
   ],
   "source": [
    "a = np.array([[1,2],[3,4]]) \n",
    "\n",
    "print('Array Pertama:') \n",
    "print(a) \n",
    "print('\\n')  \n",
    "b = np.array([[5,6],[7,8]]) \n",
    "\n",
    "print('Array Kedua:') \n",
    "print(b) \n",
    "print('\\n')  \n",
    "\n",
    "print('Horizontal stacking:') \n",
    "c = np.hstack((a,b)) \n",
    "print(c) \n",
    "print('\\n')\n",
    "\n"
   ]
  },
  {
   "cell_type": "markdown",
   "id": "8b6b09be",
   "metadata": {},
   "source": [
    "### vstack"
   ]
  },
  {
   "cell_type": "code",
   "execution_count": 40,
   "id": "07bfe484",
   "metadata": {},
   "outputs": [
    {
     "name": "stdout",
     "output_type": "stream",
     "text": [
      "Array pertama:\n",
      "[[1 2]\n",
      " [3 4]]\n",
      "\n",
      "\n",
      "Array kedua:\n",
      "[[5 6]\n",
      " [7 8]]\n",
      "\n",
      "\n",
      "Vertical stacking:\n",
      "[[1 2]\n",
      " [3 4]\n",
      " [5 6]\n",
      " [7 8]]\n"
     ]
    }
   ],
   "source": [
    "a = np.array([[1,2],[3,4]]) \n",
    "\n",
    "print('Array pertama:') \n",
    "print(a) \n",
    "print('\\n')  \n",
    "b = np.array([[5,6],[7,8]]) \n",
    "\n",
    "print('Array kedua:') \n",
    "print(b) \n",
    "print('\\n')\n",
    "\n",
    "print('Vertical stacking:') \n",
    "c = np.vstack((a,b)) \n",
    "print(c)\n"
   ]
  },
  {
   "cell_type": "markdown",
   "id": "e1429878",
   "metadata": {},
   "source": [
    "## Splitting Array (Pemisahan Array) menjadi sub-array"
   ]
  },
  {
   "cell_type": "markdown",
   "id": "4668acc6",
   "metadata": {},
   "source": [
    "### split"
   ]
  },
  {
   "cell_type": "code",
   "execution_count": 43,
   "id": "ef02879c",
   "metadata": {},
   "outputs": [
    {
     "name": "stdout",
     "output_type": "stream",
     "text": [
      "Array pertama:\n",
      "[0 1 2 3 4 5 6 7 8]\n",
      "\n",
      "\n",
      "split array menjadi 3 sub-array yang setara:\n",
      "[array([0, 1, 2]), array([3, 4, 5]), array([6, 7, 8])]\n",
      "\n",
      "\n",
      "split berdasarkan index pada array 1 dimensi:\n",
      "[array([0, 1, 2, 3]), array([4]), array([5, 6, 7, 8])]\n"
     ]
    }
   ],
   "source": [
    "a = np.arange(9)  \n",
    "\n",
    "print('Array pertama:') \n",
    "print(a) \n",
    "print('\\n')  \n",
    "\n",
    "print('split array menjadi 3 sub-array yang setara:') \n",
    "b = np.split(a,3) \n",
    "print(b) \n",
    "print('\\n')  \n",
    "\n",
    "print('split berdasarkan index pada array 1 dimensi:') \n",
    "b = np.split(a,[4,5]) # numpy.split(ary, indices_or_sections, axis) \n",
    "# parameter indicec_or_section dapat berupa bilangan bulat, \n",
    "#yang menunjukkan jumlah subarray berukuran sama yang akan dibuat dari array input.\n",
    "print(b)\n"
   ]
  }
 ],
 "metadata": {
  "kernelspec": {
   "display_name": "base",
   "language": "python",
   "name": "python3"
  },
  "language_info": {
   "codemirror_mode": {
    "name": "ipython",
    "version": 3
   },
   "file_extension": ".py",
   "mimetype": "text/x-python",
   "name": "python",
   "nbconvert_exporter": "python",
   "pygments_lexer": "ipython3",
   "version": "3.12.4"
  }
 },
 "nbformat": 4,
 "nbformat_minor": 5
}
