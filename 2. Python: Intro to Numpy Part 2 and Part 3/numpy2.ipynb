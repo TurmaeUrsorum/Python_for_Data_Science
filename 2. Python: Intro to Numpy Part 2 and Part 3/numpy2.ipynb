{
 "cells": [
  {
   "cell_type": "code",
   "execution_count": 1,
   "id": "149dd241",
   "metadata": {},
   "outputs": [],
   "source": [
    "import numpy as np\n",
    "# mencoba numpy yang kedua"
   ]
  },
  {
   "cell_type": "markdown",
   "id": "8c25cb60",
   "metadata": {},
   "source": [
    "# Slicing dan Indexing\n",
    "\n",
    "`# Slicing and Indexing` di NumPy berarti **mengambil sebagian data dari array**, baik satu elemen, beberapa elemen, satu baris, satu kolom, atau bagian-bagian tertentu.\n",
    "\n",
    "🧠 Ini sangat penting karena NumPy dipakai untuk manipulasi data numerik dan array besar. Dengan **indexing dan slicing**, kamu bisa mengakses atau mengubah data secara efisien.\n",
    "\n",
    "---\n",
    "\n",
    "## 📌 1. **Indexing**: Mengakses elemen spesifik\n",
    "\n",
    "```python\n",
    "import numpy as np\n",
    "\n",
    "arr = np.array([10, 20, 30, 40])\n",
    "\n",
    "print(arr[0])  # 10 (elemen pertama)\n",
    "print(arr[-1]) # 40 (elemen terakhir)\n",
    "```\n",
    "\n",
    "### Untuk array 2D:\n",
    "\n",
    "```python\n",
    "mat = np.array([[1, 2, 3],\n",
    "                [4, 5, 6]])\n",
    "\n",
    "print(mat[0, 1])  # 2 (baris 0, kolom 1)\n",
    "print(mat[1, 2])  # 6 (baris 1, kolom 2)\n",
    "```\n",
    "\n",
    "---\n",
    "\n",
    "## 📌 2. **Slicing**: Mengambil rentang elemen\n",
    "\n",
    "### Satu dimensi:\n",
    "\n",
    "```python\n",
    "arr = np.array([10, 20, 30, 40, 50])\n",
    "\n",
    "print(arr[1:4])  # [20 30 40]\n",
    "print(arr[:3])   # [10 20 30]\n",
    "print(arr[::2])  # [10 30 50] (loncatan 2)\n",
    "```\n",
    "\n",
    "### Dua dimensi (2D array):\n",
    "\n",
    "```python\n",
    "mat = np.array([[1, 2, 3],\n",
    "                [4, 5, 6],\n",
    "                [7, 8, 9]])\n",
    "\n",
    "print(mat[0:2, 1:])  # ambil baris 0-1, kolom 1-end\n",
    "# [[2 3]\n",
    "#  [5 6]]\n",
    "```\n",
    "\n",
    "---\n",
    "\n",
    "## 📌 3. **Mengambil baris atau kolom tertentu**\n",
    "\n",
    "```python\n",
    "print(mat[1, :])   # baris ke-1: [4 5 6]\n",
    "print(mat[:, 2])   # kolom ke-2: [3 6 9]\n",
    "```\n",
    "\n",
    "---\n",
    "\n",
    "## 📌 4. **Boolean indexing**\n",
    "\n",
    "```python\n",
    "arr = np.array([10, 15, 20, 25])\n",
    "print(arr[arr > 15])  # [20 25]\n",
    "```\n",
    "\n",
    "---\n",
    "\n",
    "## 📌 5. **Fancy indexing (pakai array index)**\n",
    "\n",
    "```python\n",
    "arr = np.array([100, 200, 300, 400])\n",
    "print(arr[[0, 3]])  # [100 400]\n",
    "```\n",
    "\n",
    "---\n",
    "\n",
    "## 🎯 Kesimpulan\n",
    "\n",
    "| Teknik          | Contoh               | Artinya          |\n",
    "| --------------- | -------------------- | ---------------- |\n",
    "| `arr[2]`        | Elemen ke-3          | Indexing         |\n",
    "| `arr[1:4]`      | Elemen 1–3           | Slicing          |\n",
    "| `mat[0, 2]`     | Baris 0, kolom 2     | Index 2D         |\n",
    "| `mat[:, 0]`     | Semua baris, kolom 0 | Kolom pertama    |\n",
    "| `arr[arr > 10]` | Elemen > 10          | Boolean indexing |\n",
    "| `arr[[0, 2]]`   | Index ke-0 dan ke-2  | Fancy indexing   |\n",
    "\n",
    "---\n",
    "\n",
    "Mau aku buatin gambar visual dari slicing di array 2D biar makin gampang paham?\n"
   ]
  },
  {
   "cell_type": "code",
   "execution_count": 2,
   "id": "0734a99d",
   "metadata": {},
   "outputs": [
    {
     "name": "stdout",
     "output_type": "stream",
     "text": [
      "[0 1 2 3 4 5 6 7 8 9]\n",
      "5\n"
     ]
    }
   ],
   "source": [
    "# contoh 1 index tunggal, field index\n",
    "a = np.arange(10) \n",
    "print(a)\n",
    "b = a[5] \n",
    "print(b)"
   ]
  },
  {
   "cell_type": "code",
   "execution_count": 3,
   "id": "e96da5a6",
   "metadata": {},
   "outputs": [
    {
     "name": "stdout",
     "output_type": "stream",
     "text": [
      "[0 1 2 3 4 5 6 7 8 9]\n",
      "[2 4 6]\n"
     ]
    }
   ],
   "source": [
    "# Contoh 2\n",
    "a = np.arange(10) \n",
    "print(a)\n",
    "s = slice(2,7,2) \n",
    "print(a[s])"
   ]
  },
  {
   "cell_type": "code",
   "execution_count": 4,
   "id": "63b14257",
   "metadata": {},
   "outputs": [
    {
     "name": "stdout",
     "output_type": "stream",
     "text": [
      "[2 4 6]\n"
     ]
    }
   ],
   "source": [
    "#contoh 3\n",
    "a = np.arange(10)\n",
    "# a[start:stop:step]\n",
    "b = a[2:7:2] \n",
    "print(b)"
   ]
  },
  {
   "cell_type": "code",
   "execution_count": 5,
   "id": "61ae2fa9",
   "metadata": {},
   "outputs": [
    {
     "name": "stdout",
     "output_type": "stream",
     "text": [
      "[0 1 2 3 4 5 6 7 8 9]\n",
      "[2 3 4 5 6 7 8 9]\n"
     ]
    }
   ],
   "source": [
    "#contoh 4 slicing index hanya dengan menggunakan parameter start\n",
    "a = np.arange(10) \n",
    "print(a)\n",
    "# ini ngambil index ke dua sampai akhir\n",
    "print(a[2:])"
   ]
  },
  {
   "cell_type": "code",
   "execution_count": 6,
   "id": "904a475e",
   "metadata": {},
   "outputs": [
    {
     "name": "stdout",
     "output_type": "stream",
     "text": [
      "[0 1 2 3 4 5 6 7 8 9]\n",
      "[2 3 4]\n"
     ]
    }
   ],
   "source": [
    "#contoh 5 slicing menggunakan start dan stop index\n",
    "a = np.arange(10) \n",
    "print(a)\n",
    "# ini ngambil rentang index kedua sampai ke lima, tapi ke lima kagak di ambil\n",
    "print(a[2:5])"
   ]
  },
  {
   "cell_type": "code",
   "execution_count": 7,
   "id": "44832b37",
   "metadata": {},
   "outputs": [
    {
     "name": "stdout",
     "output_type": "stream",
     "text": [
      "[[1 2 3]\n",
      " [3 4 5]\n",
      " [4 5 6]]\n",
      "slice array dari index a[1:]\n",
      "[[3 4 5]\n",
      " [4 5 6]]\n"
     ]
    }
   ],
   "source": [
    "#contoh 6 slicing pada array dua dimensi\n",
    "a = np.array([[1,2,3],[3,4,5],[4,5,6]]) \n",
    "print(a)\n",
    "\n",
    "# slice items starting from index\n",
    "print('slice array dari index a[1:]')\n",
    "# kalau array nya berbentuk 2 dimensi atau table atau matriks\n",
    "# a[baris:kolom]\n",
    "print(a[1:])"
   ]
  },
  {
   "cell_type": "code",
   "execution_count": 8,
   "id": "74f6ec31",
   "metadata": {},
   "outputs": [
    {
     "name": "stdout",
     "output_type": "stream",
     "text": [
      "Array kita:\n",
      "[[1 2 3]\n",
      " [3 4 5]\n",
      " [4 5 6]]\n",
      "\n",
      "\n",
      "item dari kolom kedua:\n",
      "[2 4 5]\n",
      "\n",
      "\n",
      "Item dari baris kedua:\n",
      "[3 4 5]\n",
      "\n",
      "\n",
      "item dari kolom 1 dan seterusnya:\n",
      "[[2 3]\n",
      " [4 5]\n",
      " [5 6]]\n",
      "ambil nilai 4\n",
      "4\n"
     ]
    }
   ],
   "source": [
    "#contoh 7 menggunakan ellipsis (...)\n",
    "a = np.array([[1,2,3],\n",
    "              [3,4,5],\n",
    "              [4,5,6]]) \n",
    "\n",
    "print('Array kita:') \n",
    "print(a) \n",
    "print('\\n')  \n",
    "\n",
    "# ini mengembalikan item di kolom kedua dari array utama \n",
    "print('item dari kolom kedua:')\n",
    "# mengambil baris atau kolom bisa di abaikan\n",
    "# kek a[..., 1] gitu\n",
    "# bisa sebalik nya a[1, ...]\n",
    "# ini untuk ngambil kolom\n",
    "print(a[...,1]) \n",
    "print('\\n')  \n",
    "\n",
    "# slice semua item dari baris kedua \n",
    "print('Item dari baris kedua:') \n",
    "# ini untuk ngambil baris\n",
    "print(a[1,...]) \n",
    "print('\\n')  \n",
    "\n",
    "# kita akan slice item dari kolom 1 dan seterusnya\n",
    "print('item dari kolom 1 dan seterusnya:')\n",
    "# ini ngabil kolom/atau baris bisa pakai metode 1 dims/vektor \n",
    "# pake a[start:stop:step]\n",
    "# jadi bisa gini a[start:stop:step, start:stop:step]\n",
    "print(a[...,1:])\n",
    "\n",
    "print(\"ambil nilai 4\")\n",
    "print(a[1, 1])\n"
   ]
  },
  {
   "cell_type": "markdown",
   "id": "35c34af6",
   "metadata": {},
   "source": [
    "Study Case\n",
    "\n",
    "1. Buat array 2 dimensi dengan shape=(3,4)\n",
    "2. Index dengan mengambil item dari baris kedua dan seterusnya sampai bariss terakhir\n",
    "3. Index dengan mengambil item dari kolom 1 dan 2\n"
   ]
  },
  {
   "cell_type": "code",
   "execution_count": 9,
   "id": "a9b398f7",
   "metadata": {},
   "outputs": [
    {
     "name": "stdout",
     "output_type": "stream",
     "text": [
      "[[3 4 5 8]\n",
      " [4 5 6 9]]\n"
     ]
    }
   ],
   "source": [
    "a = np.array([[1,2,3,7],\n",
    "              [3,4,5,8],\n",
    "              [4,5,6,9]])\n",
    "\n",
    "slicing_1 = a[1:,...]\n",
    "print(slicing_1)\n",
    "\n",
    "slicing_2 = a[..., :2]\n",
    "# print(slicing_2)\n",
    "\n",
    "# numpy dua belum selesai\n",
    "#mantap jiwa\n",
    "# belom selesai juga bang\n",
    "# checkpoint sampai sini "
   ]
  },
  {
   "cell_type": "markdown",
   "id": "7c3c3590",
   "metadata": {},
   "source": [
    "## Advance Indexing\n"
   ]
  },
  {
   "cell_type": "markdown",
   "id": "031621d2",
   "metadata": {},
   "source": [
    "### Integer Indexing di NumPy\n",
    "\n",
    "**Integer indexing** adalah teknik indexing (pengambilan elemen array) di NumPy dengan menggunakan **indeks bilangan bulat (integer)**, baik satu dimensi maupun banyak dimensi.\n",
    "\n",
    "Kalau kamu sudah paham slicing (`a[1:3, :]`), maka integer indexing ini sedikit berbeda karena memungkinkan kita untuk **mengambil elemen secara bebas di posisi tertentu**, bukan range.\n",
    "\n",
    "---\n",
    "\n",
    "### Contoh Dasar\n",
    "\n",
    "Misalnya kamu punya array 2 dimensi:\n",
    "\n",
    "```python\n",
    "import numpy as np\n",
    "\n",
    "a = np.array([[10, 20, 30],\n",
    "              [40, 50, 60],\n",
    "              [70, 80, 90]])\n",
    "```\n",
    "\n",
    "#### 1. Mengambil elemen spesifik (dengan 1 indeks untuk setiap dimensi)\n",
    "\n",
    "```python\n",
    "# Ambil elemen baris ke-0 kolom ke-2\n",
    "print(a[0, 2])  # Output: 30\n",
    "```\n",
    "\n",
    "#### 2. Integer indexing dalam bentuk array\n",
    "\n",
    "```python\n",
    "# Ambil elemen dari posisi (0,0), (1,1), (2,2)\n",
    "baris = np.array([0, 1, 2])\n",
    "kolom = np.array([0, 1, 2])\n",
    "print(a[baris, kolom])  # Output: [10 50 90]\n",
    "```\n",
    "\n",
    "> Ini seperti mengambil **diagonal utama** dari matriks.\n",
    "\n",
    "---\n",
    "\n",
    "### Integer Indexing vs Slicing\n",
    "\n",
    "```python\n",
    "# Slicing: ambil seluruh baris pertama\n",
    "print(a[0, :])  # [10 20 30]\n",
    "\n",
    "# Integer indexing: ambil elemen di kolom 0, 1, 2 tapi hanya dari baris 0\n",
    "print(a[0, [0, 1, 2]])  # [10 20 30]\n",
    "\n",
    "# Integer indexing: ambil (0,1), (1,1), (2,1)\n",
    "print(a[[0,1,2], 1])  # [20 50 80]\n",
    "```\n",
    "\n",
    "---\n",
    "\n",
    "### Gunanya integer indexing?\n",
    "\n",
    "- Mengakses elemen spesifik secara fleksibel\n",
    "- Berguna untuk mengambil subset berdasarkan kondisi/logika lain\n",
    "- Digabung dengan boolean indexing untuk filtering lanjutan\n",
    "\n",
    "---\n",
    "\n",
    "Kalau kamu mau contoh study case-nya juga (misalnya untuk klasifikasi, pengolahan data, dll), tinggal bilang aja ya!\n"
   ]
  },
  {
   "cell_type": "code",
   "execution_count": 10,
   "id": "e4ca5308",
   "metadata": {},
   "outputs": [
    {
     "name": "stdout",
     "output_type": "stream",
     "text": [
      "[1 4 5]\n"
     ]
    }
   ],
   "source": [
    "#contoh 1 mengakses element dari array dua dimensi dengan menentukan baris dan kolom yang disalin\n",
    "x = np.array([[1, 2], \n",
    "              [3, 4], \n",
    "              [5, 6]]) \n",
    "y = x[[0,1,2], [0,1,0]] \n",
    "print(y)"
   ]
  },
  {
   "cell_type": "code",
   "execution_count": 11,
   "id": "e6817e6f",
   "metadata": {},
   "outputs": [
    {
     "name": "stdout",
     "output_type": "stream",
     "text": [
      "array asli:\n",
      "[[ 0  1  2]\n",
      " [ 3  4  5]\n",
      " [ 6  7  8]\n",
      " [ 9 10 11]]\n",
      "\n",
      "\n",
      "Hasil dari index integer:\n",
      "[[ 0  2]\n",
      " [ 9 11]]\n"
     ]
    }
   ],
   "source": [
    "#contoh 2 mengakses element dari array dua dimensi dengan menentukan baris dan kolom yang disalin\n",
    "x = np.array([[ 0,  1,  2],\n",
    "              [ 3,  4,  5],\n",
    "              [ 6,  7,  8],\n",
    "              [ 9, 10, 11]]) \n",
    "   \n",
    "print('array asli:') \n",
    "print(x) \n",
    "print('\\n') \n",
    "\n",
    "rows = np.array([[0,0],[3,3]]) #Baris pertama dan keempat\n",
    "cols = np.array([[0,2],[0,2]]) #Kolom pertama dan ketiga\n",
    "y = x[rows,cols] \n",
    "   \n",
    "print('Hasil dari index integer:') \n",
    "print(y)"
   ]
  },
  {
   "cell_type": "code",
   "execution_count": 12,
   "id": "f0c94e58",
   "metadata": {},
   "outputs": [
    {
     "name": "stdout",
     "output_type": "stream",
     "text": [
      "Array asli:\n",
      "[[ 0  1  2]\n",
      " [ 3  4  5]\n",
      " [ 6  7  8]\n",
      " [ 9 10 11]]\n",
      "\n",
      "\n",
      "setelah, hasil array menjadi:\n",
      "[[ 4  5]\n",
      " [ 7  8]\n",
      " [10 11]]\n",
      "\n",
      "\n",
      "slicing dengan advance index untuk column:\n",
      "[[ 4  5]\n",
      " [ 7  8]\n",
      " [10 11]]\n"
     ]
    }
   ],
   "source": [
    "#contoh 3\n",
    "x = np.array([[ 0,  1,  2],\n",
    "              [ 3,  4,  5],\n",
    "              [ 6,  7,  8],\n",
    "              [ 9, 10, 11]]) \n",
    "\n",
    "print('Array asli:')\n",
    "print(x) \n",
    "print('\\n')  \n",
    "\n",
    "# slicing \n",
    "z = x[1:4,1:3] \n",
    "\n",
    "print('setelah, hasil array menjadi:') \n",
    "print(z) \n",
    "print('\\n')  \n",
    "\n",
    "# using advanced index for column \n",
    "y = x[1:4,[1,2]] \n",
    "\n",
    "print('slicing dengan advance index untuk column:') \n",
    "print(y)\n",
    "\n",
    "# susah bjir ini numpy"
   ]
  },
  {
   "cell_type": "markdown",
   "id": "ab5386a6",
   "metadata": {},
   "source": [
    "# Bolean indexing "
   ]
  },
  {
   "cell_type": "code",
   "execution_count": 13,
   "id": "d175d079",
   "metadata": {},
   "outputs": [
    {
     "name": "stdout",
     "output_type": "stream",
     "text": [
      "array asli :\n",
      "[[ 0  1  2]\n",
      " [ 3  4  5]\n",
      " [ 6  7  8]\n",
      " [ 9 10 11]]\n",
      "\n",
      "\n",
      "item yang lebih besar dari lima :\n",
      "[ 6  7  8  9 10 11]\n"
     ]
    }
   ],
   "source": [
    "x = np.array([[ 0,  1,  2],\n",
    "              [ 3,  4,  5],\n",
    "              [ 6,  7,  8],\n",
    "              [ 9, 10, 11]]) \n",
    "\n",
    "print(\"array asli :\")\n",
    "print(x)\n",
    "print(\"\\n\")\n",
    "\n",
    "# ngambil item di atas angaka lima\n",
    "print(\"item yang lebih besar dari lima :\")\n",
    "print(x[x > 5])"
   ]
  },
  {
   "cell_type": "code",
   "execution_count": 14,
   "id": "3409fbf0",
   "metadata": {},
   "outputs": [
    {
     "name": "stdout",
     "output_type": "stream",
     "text": [
      "[1. 2. 3. 4. 5.]\n"
     ]
    }
   ],
   "source": [
    "#contoh 2\n",
    "# ngambil item yang nan doang\n",
    "a = np.array([np.nan, 1,2,np.nan,3,4,5]) \n",
    "print(a[~np.isnan(a)])"
   ]
  },
  {
   "cell_type": "code",
   "execution_count": 15,
   "id": "b53dd70f",
   "metadata": {},
   "outputs": [
    {
     "name": "stdout",
     "output_type": "stream",
     "text": [
      "[2. +6.j 3.5+5.j]\n"
     ]
    }
   ],
   "source": [
    "#contoh 3\n",
    "# ngambil item yang bukan bilang komples\n",
    "# `~` untuk negasi\n",
    "a = np.array([1, 2+6j, 5, 3.5+5j]) \n",
    "print(a[np.iscomplex(a)])"
   ]
  },
  {
   "cell_type": "markdown",
   "id": "7aa3f152",
   "metadata": {},
   "source": [
    "Study Case \n",
    "1. Buat array 2 dimensi dengan shape=(3,4) yang\n",
    "  isinya campuran antara complex, nan dan integer\n",
    "2. Ambil item dengan menggunakan index boolean khusus integer, nan dan complex"
   ]
  },
  {
   "cell_type": "code",
   "execution_count": 16,
   "id": "3217c580",
   "metadata": {},
   "outputs": [
    {
     "name": "stdout",
     "output_type": "stream",
     "text": [
      "[ 1.+0.j  4.+0.j  5.+0.j  6.+0.j  7.+0.j  9.+0.j 10.+0.j]\n",
      "[nan+0.j nan+0.j nan+0.j]\n",
      "[3.+2.j 8.+1.j]\n"
     ]
    },
    {
     "name": "stderr",
     "output_type": "stream",
     "text": [
      "/tmp/ipykernel_29505/2017132615.py:7: RuntimeWarning: invalid value encountered in greater\n",
      "  print(a[(a > 0) & (~np.iscomplex(a))])\n"
     ]
    }
   ],
   "source": [
    "a = np.array([\n",
    "    [1,      np.nan, 3+2j,   4],\n",
    "    [5,      6,       np.nan, 7+0j],\n",
    "    [8+1j,   9,       10,     np.nan]\n",
    "])\n",
    "\n",
    "print(a[(a > 0) & (~np.iscomplex(a))])\n",
    "print(a[np.isnan(a)])\n",
    "print(a[np.iscomplex(a)])"
   ]
  },
  {
   "cell_type": "markdown",
   "id": "5446248a",
   "metadata": {},
   "source": [
    "# Array Manipulation"
   ]
  },
  {
   "cell_type": "markdown",
   "id": "ef76f104",
   "metadata": {},
   "source": [
    "## Reshape"
   ]
  },
  {
   "cell_type": "code",
   "execution_count": 17,
   "id": "66c811e4",
   "metadata": {},
   "outputs": [
    {
     "name": "stdout",
     "output_type": "stream",
     "text": [
      "Array asli:\n",
      "[0 1 2 3 4 5 6 7]\n",
      "\n",
      "\n",
      "Array yang telah di modifikasi:\n",
      "[[0 1]\n",
      " [2 3]\n",
      " [4 5]\n",
      " [6 7]]\n"
     ]
    }
   ],
   "source": [
    "a = np.arange(8)\n",
    "print('Array asli:')\n",
    "print(a)\n",
    "print('\\n')\n",
    "\n",
    "# ngerubah jadi 4 kali 2, ada 4 baris 2 kolom\n",
    "b = a.reshape(4,2)\n",
    "print('Array yang telah di modifikasi:')\n",
    "print(b)\n"
   ]
  },
  {
   "cell_type": "markdown",
   "id": "0fb05f95",
   "metadata": {},
   "source": [
    "# Perbedaan Flatten ama Ravel, Copy vs View\n",
    "\n",
    "Perbedaan utama antara `ravel()` dan `flatten()` di NumPy adalah pada **cara mereka menangani memori (copy vs view)**.\n",
    "\n",
    "---\n",
    "\n",
    "### ✅ **1. `flatten()`**\n",
    "\n",
    "* **Selalu mengembalikan salinan baru (copy)** dari array asli.\n",
    "* Perubahan pada array hasil `flatten()` **tidak memengaruhi** array asal.\n",
    "* Berlaku untuk semua array, apapun bentuknya (contiguous maupun tidak).\n",
    "\n",
    "```python\n",
    "a = np.array([[1, 2], [3, 4]])\n",
    "b = a.flatten()\n",
    "b[0] = 100\n",
    "\n",
    "print(a)  # [[1 2]\n",
    "          #  [3 4]] -> tidak berubah\n",
    "print(b)  # [100 2 3 4] -> berubah sendiri\n",
    "```\n",
    "\n",
    "---\n",
    "\n",
    "### ✅ **2. `ravel()`**\n",
    "\n",
    "* **Mengembalikan view (bukan salinan)** jika memungkinkan.\n",
    "* Jadi, perubahan pada hasil `ravel()` bisa **mengubah array asal**, *asalkan masih contiguous* di memori.\n",
    "* Kalau tidak bisa view, maka akan tetap bikin salinan (mirip `flatten()`).\n",
    "\n",
    "```python\n",
    "a = np.array([[1, 2], [3, 4]])\n",
    "b = a.ravel()\n",
    "b[0] = 100\n",
    "\n",
    "print(a)  # [[100   2]\n",
    "          #  [  3   4]] -> berubah!\n",
    "print(b)  # [100 2 3 4]\n",
    "```\n",
    "\n",
    "---\n",
    "\n",
    "### 🧠 Ringkasan:\n",
    "\n",
    "| Fitur            | `ravel()`                 | `flatten()`               |\n",
    "| ---------------- | ------------------------- | ------------------------- |\n",
    "| Return           | View jika bisa, else copy | Selalu copy               |\n",
    "| Memory efficient | ✅ Lebih hemat             | ❌ Tidak selalu hemat      |\n",
    "| Mutable effect   | Bisa ubah array asal      | Tidak mengubah array asal |\n",
    "| Kecepatan        | Biasanya lebih cepat      | Sedikit lebih lambat      |\n",
    "\n",
    "---\n",
    "\n",
    "### 🧪 Gunakan Kapan?\n",
    "\n",
    "* Pakai `ravel()` kalau kamu **tidak butuh salinan** dan ingin **efisiensi**.\n",
    "* Pakai `flatten()` kalau kamu **ingin pastikan hasilnya terpisah dari array asli**.\n",
    "\n",
    "Mau aku tunjukin juga kapan `ravel()` jadi copy, bukan view?\n"
   ]
  },
  {
   "cell_type": "markdown",
   "id": "1a6ec8d4",
   "metadata": {},
   "source": [
    "## Flatten"
   ]
  },
  {
   "cell_type": "code",
   "execution_count": 18,
   "id": "165b18b1",
   "metadata": {},
   "outputs": [
    {
     "name": "stdout",
     "output_type": "stream",
     "text": [
      "Array asli:\n",
      "[[0 1 2 3]\n",
      " [4 5 6 7]]\n",
      "\n",
      "\n",
      "Array yang telah di flattened:\n",
      "[0 1 2 3 4 5 6 7]\n",
      "\n",
      "\n",
      "flattened array dalam F-style ordering:\n",
      "[0 4 1 5 2 6 3 7]\n"
     ]
    }
   ],
   "source": [
    "a = np.arange(8).reshape(2,4) #take copy\n",
    "\n",
    "print('Array asli:')\n",
    "print(a) \n",
    "print('\\n')  \n",
    "\n",
    "\n",
    "print('Array yang telah di flattened:') \n",
    "print(a.flatten()) \n",
    "print('\\n')  \n",
    "\n",
    "print('flattened array dalam F-style ordering:')\n",
    "print(a.flatten(order = 'F'))"
   ]
  },
  {
   "cell_type": "markdown",
   "id": "a28665a5",
   "metadata": {},
   "source": [
    "### Ravel"
   ]
  },
  {
   "cell_type": "code",
   "execution_count": 19,
   "id": "1beb8296",
   "metadata": {},
   "outputs": [
    {
     "name": "stdout",
     "output_type": "stream",
     "text": [
      "Array asli:\n",
      "[[0 1 2 3]\n",
      " [4 5 6 7]]\n",
      "\n",
      "\n",
      "hasil dari fungsi ravel:\n",
      "[0 1 2 3 4 5 6 7]\n",
      "\n",
      "\n",
      "menggunakan ravel function dalam F-style ordering:\n",
      "[0 4 1 5 2 6 3 7]\n"
     ]
    }
   ],
   "source": [
    "a = np.arange(8).reshape(2,4) # only view\n",
    "\n",
    "print('Array asli:') \n",
    "print(a) \n",
    "print('\\n')  \n",
    "\n",
    "print('hasil dari fungsi ravel:') \n",
    "print(a.ravel())  \n",
    "print('\\n') \n",
    "\n",
    "print('menggunakan ravel function dalam F-style ordering:')\n",
    "print(a.ravel(order = 'F'))"
   ]
  },
  {
   "cell_type": "markdown",
   "id": "63861f23",
   "metadata": {},
   "source": [
    "## Operasi Transpos"
   ]
  },
  {
   "cell_type": "code",
   "execution_count": 20,
   "id": "632372dd",
   "metadata": {},
   "outputs": [
    {
     "name": "stdout",
     "output_type": "stream",
     "text": [
      "Array asli:\n",
      "[[ 0  1  2  3]\n",
      " [ 4  5  6  7]\n",
      " [ 8  9 10 11]]\n",
      "\n",
      "\n",
      "Array yang telah di transpos:\n",
      "[[ 0  4  8]\n",
      " [ 1  5  9]\n",
      " [ 2  6 10]\n",
      " [ 3  7 11]]\n",
      "\n",
      "\n",
      "Array yang telah di transpos dengan .T:\n",
      "[[ 0  4  8]\n",
      " [ 1  5  9]\n",
      " [ 2  6 10]\n",
      " [ 3  7 11]]\n"
     ]
    }
   ],
   "source": [
    "a = np.arange(12).reshape(3,4)\n",
    "\n",
    "# merubah dari bari ke kolom dan kolom jadi baris/ di puter se arah jarum jam\n",
    "\n",
    "print('Array asli:') \n",
    "print(a)  \n",
    "print('\\n') \n",
    "\n",
    "print('Array yang telah di transpos:') \n",
    "print(np.transpose(a)) #parameter dengan list int, sesuai dengan dimensi. Secara default, dimensi dibalik\n",
    "print('\\n') \n",
    "\n",
    "print('Array yang telah di transpos dengan .T:') \n",
    "print(a.T)"
   ]
  },
  {
   "cell_type": "markdown",
   "id": "df4a60b8",
   "metadata": {},
   "source": [
    "## Penggabungan array"
   ]
  },
  {
   "cell_type": "markdown",
   "id": "0a92c6b8",
   "metadata": {},
   "source": [
    "### concatenate"
   ]
  },
  {
   "cell_type": "code",
   "execution_count": 21,
   "id": "6d2f0f19",
   "metadata": {},
   "outputs": [
    {
     "name": "stdout",
     "output_type": "stream",
     "text": [
      "Array Pertama:\n",
      "[[1 2]\n",
      " [3 4]]\n",
      "\n",
      "\n",
      "Array Kedua:\n",
      "[[5 6]\n",
      " [7 8]]\n",
      "\n",
      "\n",
      "gabungan dua array di sumbu 0:\n",
      "[[1 2]\n",
      " [3 4]\n",
      " [5 6]\n",
      " [7 8]]\n",
      "\n",
      "\n",
      "gabungan dua array di sumbu 1:\n",
      "[[1 2 5 6]\n",
      " [3 4 7 8]]\n"
     ]
    }
   ],
   "source": [
    "a = np.array([[1,2],[3,4]]) \n",
    "\n",
    "print('Array Pertama:')\n",
    "print(a) \n",
    "print('\\n')  \n",
    "b = np.array([[5,6],[7,8]]) \n",
    "\n",
    "print('Array Kedua:') \n",
    "print(b) \n",
    "print('\\n')  \n",
    "# both the arrays are of same dimensions \n",
    "\n",
    "# 0 itu vertikal\n",
    "# 1 itu horizontal\n",
    "print('gabungan dua array di sumbu 0:') \n",
    "print(np.concatenate((a,b)) )\n",
    "print('\\n') \n",
    "\n",
    "print('gabungan dua array di sumbu 1:') \n",
    "print(np.concatenate((a,b),axis = 1))"
   ]
  },
  {
   "cell_type": "markdown",
   "id": "9c8eb19b",
   "metadata": {},
   "source": [
    "### stack"
   ]
  },
  {
   "cell_type": "code",
   "execution_count": 22,
   "id": "e4eb99a9",
   "metadata": {},
   "outputs": [
    {
     "name": "stdout",
     "output_type": "stream",
     "text": [
      "Array Pertama:\n",
      "[[1 2]\n",
      " [3 4]]\n",
      "\n",
      "\n",
      "Array kedua:\n",
      "[[5 6]\n",
      " [7 8]]\n",
      "\n",
      "\n",
      "Stack dua array pada sumbu 0:\n",
      "[[[1 2]\n",
      "  [3 4]]\n",
      "\n",
      " [[5 6]\n",
      "  [7 8]]]\n",
      "\n",
      "\n",
      "Stack dua array pada sumbu 1:\n",
      "[[[1 2]\n",
      "  [5 6]]\n",
      "\n",
      " [[3 4]\n",
      "  [7 8]]]\n"
     ]
    }
   ],
   "source": [
    "a = np.array([[1,2],[3,4]]) \n",
    "\n",
    "print('Array Pertama:') \n",
    "print(a) \n",
    "print('\\n')\n",
    "\n",
    "\n",
    "b = np.array([[5,6],[7,8]]) \n",
    "\n",
    "print('Array kedua:') \n",
    "print(b) \n",
    "print('\\n')  \n",
    "\n",
    "print('Stack dua array pada sumbu 0:') \n",
    "print(np.stack((a,b),0) )\n",
    "print('\\n')  \n",
    "\n",
    "print('Stack dua array pada sumbu 1:') \n",
    "print(np.stack((a,b),1))"
   ]
  },
  {
   "cell_type": "markdown",
   "id": "22905844",
   "metadata": {},
   "source": [
    "### hstack\n",
    "kiri kanan"
   ]
  },
  {
   "cell_type": "code",
   "execution_count": 23,
   "id": "d6ce8db5",
   "metadata": {},
   "outputs": [
    {
     "name": "stdout",
     "output_type": "stream",
     "text": [
      "Array Pertama:\n",
      "[[1 2]\n",
      " [3 4]]\n",
      "\n",
      "\n",
      "Array Kedua:\n",
      "[[5 6]\n",
      " [7 8]]\n",
      "\n",
      "\n",
      "Horizontal stacking:\n",
      "[[1 2 5 6]\n",
      " [3 4 7 8]]\n",
      "\n",
      "\n"
     ]
    }
   ],
   "source": [
    "a = np.array([[1,2],[3,4]]) \n",
    "\n",
    "print('Array Pertama:') \n",
    "print(a) \n",
    "print('\\n')  \n",
    "b = np.array([[5,6],[7,8]]) \n",
    "\n",
    "print('Array Kedua:') \n",
    "print(b) \n",
    "print('\\n')  \n",
    "\n",
    "print('Horizontal stacking:') \n",
    "c = np.hstack((a,b)) \n",
    "print(c) \n",
    "print('\\n')\n",
    "\n"
   ]
  },
  {
   "cell_type": "markdown",
   "id": "8b6b09be",
   "metadata": {},
   "source": [
    "### vstack"
   ]
  },
  {
   "cell_type": "code",
   "execution_count": 24,
   "id": "07bfe484",
   "metadata": {},
   "outputs": [
    {
     "name": "stdout",
     "output_type": "stream",
     "text": [
      "Array pertama:\n",
      "[[1 2]\n",
      " [3 4]]\n",
      "\n",
      "\n",
      "Array kedua:\n",
      "[[5 6]\n",
      " [7 8]]\n",
      "\n",
      "\n",
      "Vertical stacking:\n",
      "[[1 2]\n",
      " [3 4]\n",
      " [5 6]\n",
      " [7 8]]\n"
     ]
    }
   ],
   "source": [
    "a = np.array([[1,2],[3,4]]) \n",
    "\n",
    "print('Array pertama:') \n",
    "print(a) \n",
    "print('\\n')  \n",
    "b = np.array([[5,6],[7,8]]) \n",
    "\n",
    "print('Array kedua:') \n",
    "print(b) \n",
    "print('\\n')\n",
    "\n",
    "print('Vertical stacking:') \n",
    "c = np.vstack((a,b)) \n",
    "print(c)\n"
   ]
  },
  {
   "cell_type": "markdown",
   "id": "e1429878",
   "metadata": {},
   "source": [
    "## Splitting Array (Pemisahan Array) menjadi sub-array"
   ]
  },
  {
   "cell_type": "markdown",
   "id": "4668acc6",
   "metadata": {},
   "source": [
    "### split"
   ]
  },
  {
   "cell_type": "code",
   "execution_count": 25,
   "id": "ef02879c",
   "metadata": {},
   "outputs": [
    {
     "name": "stdout",
     "output_type": "stream",
     "text": [
      "Array pertama:\n",
      "[0 1 2 3 4 5 6 7 8]\n",
      "\n",
      "\n",
      "split array menjadi 3 sub-array yang setara:\n",
      "[array([0, 1, 2]), array([3, 4, 5]), array([6, 7, 8])]\n",
      "\n",
      "\n",
      "split berdasarkan index pada array 1 dimensi:\n",
      "[array([0, 1, 2, 3]), array([4]), array([5, 6, 7, 8])]\n"
     ]
    }
   ],
   "source": [
    "a = np.arange(9)  \n",
    "\n",
    "print('Array pertama:') \n",
    "print(a) \n",
    "print('\\n')  \n",
    "\n",
    "print('split array menjadi 3 sub-array yang setara:') \n",
    "b = np.split(a,3) \n",
    "print(b) \n",
    "print('\\n')  \n",
    "\n",
    "print('split berdasarkan index pada array 1 dimensi:') \n",
    "b = np.split(a,[4,5]) # numpy.split(ary, indices_or_sections, axis) \n",
    "# parameter indicec_or_section dapat berupa bilangan bulat, \n",
    "#yang menunjukkan jumlah subarray berukuran sama yang akan dibuat dari array input.\n",
    "print(b)\n"
   ]
  },
  {
   "cell_type": "markdown",
   "id": "72d473a3",
   "metadata": {},
   "source": [
    "### hsplit"
   ]
  },
  {
   "cell_type": "code",
   "execution_count": 26,
   "id": "83fd6edc",
   "metadata": {},
   "outputs": [
    {
     "name": "stdout",
     "output_type": "stream",
     "text": [
      "Array pertama:\n",
      "[[ 0  1  2  3]\n",
      " [ 4  5  6  7]\n",
      " [ 8  9 10 11]\n",
      " [12 13 14 15]]\n",
      "\n",
      "\n",
      "Horizontal splitting:\n",
      "[array([[ 0,  1],\n",
      "       [ 4,  5],\n",
      "       [ 8,  9],\n",
      "       [12, 13]]), array([[ 2,  3],\n",
      "       [ 6,  7],\n",
      "       [10, 11],\n",
      "       [14, 15]])]\n",
      "\n",
      "\n"
     ]
    }
   ],
   "source": [
    "a = np.arange(16).reshape(4,4) \n",
    "\n",
    "print('Array pertama:') \n",
    "print(a) \n",
    "print('\\n')  \n",
    "\n",
    "print('Horizontal splitting:') # column wise\n",
    "b = np.hsplit(a,2) \n",
    "print(b) \n",
    "print('\\n')\n"
   ]
  },
  {
   "cell_type": "markdown",
   "id": "4b426cb5",
   "metadata": {},
   "source": [
    "### vsplit"
   ]
  },
  {
   "cell_type": "code",
   "execution_count": 27,
   "id": "983209ee",
   "metadata": {},
   "outputs": [
    {
     "name": "stdout",
     "output_type": "stream",
     "text": [
      "Array awal:\n",
      "[[ 0  1  2  3]\n",
      " [ 4  5  6  7]\n",
      " [ 8  9 10 11]\n",
      " [12 13 14 15]]\n",
      "\n",
      "\n",
      "Vertical splitting:\n",
      "[array([[0, 1, 2, 3],\n",
      "       [4, 5, 6, 7]]), array([[ 8,  9, 10, 11],\n",
      "       [12, 13, 14, 15]])]\n"
     ]
    }
   ],
   "source": [
    "a = np.arange(16).reshape(4,4) \n",
    "\n",
    "print('Array awal:') \n",
    "print(a) \n",
    "print('\\n')\n",
    "\n",
    "print('Vertical splitting:') \n",
    "b = np.vsplit(a,2) \n",
    "print(b)\n"
   ]
  },
  {
   "cell_type": "markdown",
   "id": "cabbc69f",
   "metadata": {},
   "source": [
    "## Mengubah Element Array (Add/Remove)"
   ]
  },
  {
   "cell_type": "code",
   "execution_count": 28,
   "id": "b0a6d636",
   "metadata": {},
   "outputs": [
    {
     "name": "stdout",
     "output_type": "stream",
     "text": [
      "Array awal:\n",
      "[[1 2 3]\n",
      " [4 5 6]]\n",
      "\n",
      "\n",
      "shape array pertama:\n",
      "(2, 3)\n",
      "\n",
      "\n",
      "Array kedua:\n",
      "[[1 2]\n",
      " [3 4]\n",
      " [5 6]]\n",
      "\n",
      "\n",
      "shape array kedua:\n",
      "(3, 2)\n",
      "\n",
      "\n",
      "resize array kedua:\n",
      "[[1 2 3]\n",
      " [4 5 6]\n",
      " [1 2 3]]\n"
     ]
    }
   ],
   "source": [
    "# Resize\n",
    "a = np.array([[1,2,3],\n",
    "              [4,5,6]]) \n",
    "\n",
    "print('Array awal:') \n",
    "print(a) \n",
    "print('\\n')\n",
    "\n",
    "print('shape array pertama:') \n",
    "print(a.shape) \n",
    "print('\\n')  \n",
    "b = np.resize(a, (3,2)) \n",
    "\n",
    "print('Array kedua:') \n",
    "print(b) \n",
    "print('\\n')  \n",
    "\n",
    "print('shape array kedua:') \n",
    "print(b.shape) \n",
    "print('\\n')  \n",
    "# Observe that first row of a is repeated in b since size is bigger \n",
    "\n",
    "print('resize array kedua:') \n",
    "b = np.resize(a,(3,3)) \n",
    "print(b)\n"
   ]
  },
  {
   "cell_type": "markdown",
   "id": "0d9b31c4",
   "metadata": {},
   "source": [
    "### Append"
   ]
  },
  {
   "cell_type": "code",
   "execution_count": 29,
   "id": "5123eff8",
   "metadata": {},
   "outputs": [
    {
     "name": "stdout",
     "output_type": "stream",
     "text": [
      "Array Awal\n",
      "[[1 2 3]\n",
      " [4 5 6]]\n",
      "\n",
      "\n",
      "Append elements to array:\n",
      "[1 2 3 4 5 6 7 8 9]\n",
      "\n",
      "\n",
      "Append elements along axis 0:\n",
      "[[1 2 3]\n",
      " [4 5 6]\n",
      " [7 8 9]]\n",
      "\n",
      "\n",
      "Append elements along axis 1:\n",
      "[[1 2 3 5 5 5]\n",
      " [4 5 6 7 8 9]]\n"
     ]
    }
   ],
   "source": [
    "# Append\n",
    "print('Array Awal')\n",
    "print(a)\n",
    "print('\\n')\n",
    "\n",
    "print('Append elements to array:') \n",
    "print(np.append(a, [7,8,9])) \n",
    "print('\\n')  \n",
    "\n",
    "print('Append elements along axis 0:') \n",
    "print(np.append(a, [[7,8,9]],axis = 0)) \n",
    "print('\\n')  \n",
    "\n",
    "print('Append elements along axis 1:') \n",
    "print(np.append(a, [[5,5,5],[7,8,9]],axis = 1))\n"
   ]
  },
  {
   "cell_type": "markdown",
   "id": "0c13338b",
   "metadata": {},
   "source": [
    "### Insert"
   ]
  },
  {
   "cell_type": "code",
   "execution_count": 30,
   "id": "32b5749f",
   "metadata": {},
   "outputs": [
    {
     "name": "stdout",
     "output_type": "stream",
     "text": [
      "Array pertama:\n",
      "[[1 2]\n",
      " [3 4]\n",
      " [5 6]]\n",
      "\n",
      "\n",
      "tanpa parameter axis. sebelum insertion arraynya di flattened.\n",
      "[ 1  2  3 11 12  4  5  6]\n",
      "\n",
      "\n",
      "Menggunakan parameter axis. value arraynya di broadcasr untuk menyamakan input.\n",
      "Broadcast sepanjang axis 0:\n",
      "[[ 1  2]\n",
      " [11 11]\n",
      " [ 3  4]\n",
      " [ 5  6]]\n",
      "\n",
      "\n",
      "Broadcast sepanjanhg axis 1:\n",
      "[[ 1 11  2]\n",
      " [ 3 11  4]\n",
      " [ 5 11  6]]\n"
     ]
    }
   ],
   "source": [
    "# Insert \n",
    "a = np.array([[1,2],\n",
    "              [3,4],\n",
    "              [5,6]]) \n",
    "\n",
    "print('Array pertama:') \n",
    "print(a) \n",
    "print('\\n')  \n",
    "\n",
    "print('tanpa parameter axis. sebelum insertion arraynya di flattened.')\n",
    "print(np.insert(a,3,[11,12])) \n",
    "print('\\n')  \n",
    "print('Menggunakan parameter axis. value arraynya di broadcasr untuk menyamakan input.')\n",
    "\n",
    "print('Broadcast sepanjang axis 0:') \n",
    "print(np.insert(a,1,[11],axis = 0)) \n",
    "print('\\n')  \n",
    "\n",
    "print('Broadcast sepanjanhg axis 1:') \n",
    "print(np.insert(a,1,11,axis = 1))\n"
   ]
  },
  {
   "cell_type": "markdown",
   "id": "a933a327",
   "metadata": {},
   "source": [
    "### Delete"
   ]
  },
  {
   "cell_type": "code",
   "execution_count": 31,
   "id": "9fac1d72",
   "metadata": {},
   "outputs": [
    {
     "name": "stdout",
     "output_type": "stream",
     "text": [
      "First array:\n",
      "[[ 0  1  2  3]\n",
      " [ 4  5  6  7]\n",
      " [ 8  9 10 11]]\n",
      "\n",
      "\n",
      "tanpa parameter axis maka di flattened sebelum didelete:\n",
      "[ 0  1  2  3  4  6  7  8  9 10 11]\n",
      "\n",
      "\n",
      "kolom 2 deleted:\n",
      "[[ 0  2  3]\n",
      " [ 4  6  7]\n",
      " [ 8 10 11]]\n",
      "\n",
      "\n"
     ]
    }
   ],
   "source": [
    "# delete\n",
    "a = np.arange(12).reshape(3,4) \n",
    "\n",
    "print('First array:') \n",
    "print(a) \n",
    "print('\\n')  \n",
    "\n",
    "print('tanpa parameter axis maka di flattened sebelum didelete:') \n",
    "print(np.delete(a,5)) \n",
    "print('\\n')  \n",
    "\n",
    "print('kolom 2 deleted:')  \n",
    "print(np.delete(a,1,axis = 1)) \n",
    "print('\\n')\n"
   ]
  },
  {
   "cell_type": "markdown",
   "id": "72d62ad5",
   "metadata": {},
   "source": [
    "### Unique"
   ]
  },
  {
   "cell_type": "code",
   "execution_count": 32,
   "id": "098ce7ab",
   "metadata": {},
   "outputs": [
    {
     "name": "stdout",
     "output_type": "stream",
     "text": [
      "Array pertama:\n",
      "[5 2 6 2 7 5 6 8 2 9]\n",
      "\n",
      "\n",
      "value unik dari array pertama:\n",
      "[2 5 6 7 8 9]\n",
      "\n",
      "\n",
      "index array:\n",
      "[1 0 2 4 7 9]\n",
      "\n",
      "\n"
     ]
    }
   ],
   "source": [
    "#unique element\n",
    "a = np.array([5,2,6,2,7,5,6,8,2,9]) \n",
    "\n",
    "print('Array pertama:') \n",
    "print(a) \n",
    "print('\\n')  \n",
    "\n",
    "print('value unik dari array pertama:') \n",
    "u = np.unique(a) \n",
    "print(u) \n",
    "print('\\n')  \n",
    "\n",
    "print('index array:') \n",
    "u,indices = np.unique(a, return_index = True) \n",
    "print(indices) \n",
    "print('\\n')\n"
   ]
  },
  {
   "cell_type": "markdown",
   "id": "8f2e8edd",
   "metadata": {},
   "source": [
    "# Broadcasting array"
   ]
  },
  {
   "cell_type": "code",
   "execution_count": 33,
   "id": "c7fd8969",
   "metadata": {},
   "outputs": [],
   "source": [
    "import numpy as np"
   ]
  },
  {
   "cell_type": "code",
   "execution_count": 34,
   "id": "13924efd",
   "metadata": {},
   "outputs": [
    {
     "name": "stdout",
     "output_type": "stream",
     "text": [
      "[ 10  40  90 160]\n"
     ]
    }
   ],
   "source": [
    "# Contoh 1\n",
    "a = np.array([1,2,3,4]) \n",
    "b = np.array([10,20,30,40]) \n",
    "c = a * b \n",
    "print(c)"
   ]
  },
  {
   "cell_type": "code",
   "execution_count": 35,
   "id": "223267db",
   "metadata": {},
   "outputs": [
    {
     "name": "stdout",
     "output_type": "stream",
     "text": [
      "Array pertama:\n",
      "[[ 0.  0.  0.]\n",
      " [10. 10. 10.]\n",
      " [20. 20. 20.]\n",
      " [30. 30. 30.]]\n",
      "\n",
      "\n",
      "Array kedua:\n",
      "[1. 2. 3.]\n",
      "\n",
      "\n",
      "Array pertama + Array kedua\n",
      "[[ 1.  2.  3.]\n",
      " [11. 12. 13.]\n",
      " [21. 22. 23.]\n",
      " [31. 32. 33.]]\n"
     ]
    }
   ],
   "source": [
    "#contoh 2\n",
    "a = np.array([[0.0,0.0,0.0],\n",
    "              [10.0,10.0,10.0],\n",
    "              [20.0,20.0,20.0],\n",
    "              [30.0,30.0,30.0]]) \n",
    "b = np.array([1.0,2.0,3.0])  \n",
    "   \n",
    "print('Array pertama:') \n",
    "print(a) \n",
    "print('\\n')  \n",
    "   \n",
    "print('Array kedua:') \n",
    "print(b) \n",
    "print('\\n')  \n",
    "   \n",
    "print('Array pertama + Array kedua') \n",
    "print(a + b)\n"
   ]
  },
  {
   "cell_type": "markdown",
   "id": "9ccd71a0",
   "metadata": {},
   "source": [
    "Study Case !\n",
    "1. Buat dua array yang memiliki shape=(3,4) dan shape (1,4)\n",
    "2. Lakukan operasi perkalian dan pengurangan "
   ]
  },
  {
   "cell_type": "code",
   "execution_count": 36,
   "id": "e643d90e",
   "metadata": {},
   "outputs": [
    {
     "name": "stdout",
     "output_type": "stream",
     "text": [
      "ini perkalian array : [[ 13  28  45  64]\n",
      " [ 65  84 105 128]\n",
      " [117 140 165 192]]\n",
      "ini pengurangan array : [[-12 -12 -12 -12]\n",
      " [ -8  -8  -8  -8]\n",
      " [ -4  -4  -4  -4]]\n"
     ]
    }
   ],
   "source": [
    "array1 = np.array([\n",
    "    [1, 2, 3, 4],\n",
    "    [5, 6, 7, 8],\n",
    "    [9, 10, 11, 12]\n",
    "])\n",
    "\n",
    "# Array dengan shape (1, 4)\n",
    "array2 = np.array([[13, 14, 15, 16]])\n",
    "\n",
    "print(\"ini perkalian array :\", array1 * array2)\n",
    "print(\"ini pengurangan array :\", array1 - array2)"
   ]
  },
  {
   "cell_type": "markdown",
   "id": "bb08842e",
   "metadata": {},
   "source": [
    "# Array Iteration"
   ]
  },
  {
   "cell_type": "code",
   "execution_count": 37,
   "id": "3083813f",
   "metadata": {},
   "outputs": [
    {
     "name": "stdout",
     "output_type": "stream",
     "text": [
      "Array asli:\n",
      "[[ 0  5 10 15]\n",
      " [20 25 30 35]\n",
      " [40 45 50 55]]\n",
      "\n",
      "\n",
      "Array yang telah di modifikasi:\n",
      "0 5 10 15 20 25 30 35 40 45 50 55 "
     ]
    }
   ],
   "source": [
    "#contoh 1\n",
    "a = np.arange(0,60,5)\n",
    "a = a.reshape(3,4)\n",
    "\n",
    "print('Array asli:')\n",
    "print(a)\n",
    "print('\\n')\n",
    "\n",
    "print('Array yang telah di modifikasi:')\n",
    "# np.nditer digunakan untuk iterasi array\n",
    "# ordering di np.nditer adalah C-style secara default\n",
    "for x in np.nditer(a):\n",
    "   print(x, end=' ')\n"
   ]
  },
  {
   "cell_type": "code",
   "execution_count": 38,
   "id": "569e3eda",
   "metadata": {},
   "outputs": [
    {
     "name": "stdout",
     "output_type": "stream",
     "text": [
      "Array asli:\n",
      "[[ 0  5 10 15]\n",
      " [20 25 30 35]\n",
      " [40 45 50 55]]\n",
      "\n",
      "\n",
      "Array yang di transpose:\n",
      "[[ 0 20 40]\n",
      " [ 5 25 45]\n",
      " [10 30 50]\n",
      " [15 35 55]]\n",
      "\n",
      "\n",
      "Array yang telah di modifikasi:\n",
      "0 5 10 15 20 25 30 35 40 45 50 55 "
     ]
    }
   ],
   "source": [
    "#Urutan iterasi dipilih agar sesuai dengan tata letak memori array, tanpa mempertimbangkan urutan tertentu. \n",
    "#Ini dapat dilihat dengan mengulangi transpos dari array di atas.\n",
    "#contoh 2\n",
    "a = np.arange(0,60,5) \n",
    "a = a.reshape(3,4) \n",
    "   \n",
    "print('Array asli:')\n",
    "print(a) \n",
    "print('\\n')  \n",
    "   \n",
    "print('Array yang di transpose:') \n",
    "b = a.T \n",
    "print(b) \n",
    "print('\\n')  \n",
    "   \n",
    "print('Array yang telah di modifikasi:') \n",
    "for x in np.nditer(b): \n",
    "   print(x, end=' ')\n",
    "\n"
   ]
  },
  {
   "cell_type": "markdown",
   "id": "9bee0256",
   "metadata": {},
   "source": [
    "# Iteration Order"
   ]
  },
  {
   "cell_type": "code",
   "execution_count": null,
   "id": "314bf940",
   "metadata": {},
   "outputs": [
    {
     "name": "stdout",
     "output_type": "stream",
     "text": [
      "Array asli:\n",
      "[[ 0  5 10 15]\n",
      " [20 25 30 35]\n",
      " [40 45 50 55]]\n",
      "\n",
      "\n",
      "Transpos array asli:\n",
      "[[ 0 20 40]\n",
      " [ 5 25 45]\n",
      " [10 30 50]\n",
      " [15 35 55]]\n",
      "\n",
      "\n",
      "urutkan dalam C-style order:\n",
      "[[ 0 20 40]\n",
      " [ 5 25 45]\n",
      " [10 30 50]\n",
      " [15 35 55]]\n",
      "0 20 40 5 25 45 10 30 50 15 35 55 \n",
      "\n",
      "urutkan dalam F-style order:\n",
      "[[ 0 20 40]\n",
      " [ 5 25 45]\n",
      " [10 30 50]\n",
      " [15 35 55]]\n",
      "0 5 10 15 20 25 30 35 40 45 50 55 "
     ]
    }
   ],
   "source": [
    "#contoh 3\n",
    "a = np.arange(0,60,5)\n",
    "a = a.reshape(3,4)\n",
    "print('Array asli:')\n",
    "print(a) \n",
    "print('\\n')\n",
    "\n",
    "print('Transpos array asli:')\n",
    "b = a.T\n",
    "print(b)\n",
    "print('\\n')\n",
    "\n",
    "print('urutkan dalam C-style order:')\n",
    "c = b.copy(order = 'C')\n",
    "print(c)\n",
    "for x in np.nditer(c):\n",
    "   print(x, end=' ')\n",
    "\n",
    "print('\\n')\n",
    "\n",
    "print('urutkan dalam F-style order:')\n",
    "c = b.copy(order = 'F')\n",
    "print(c)\n",
    "for x in np.nditer(c):\n",
    "   print(x, end=' ')\n"
   ]
  },
  {
   "cell_type": "code",
   "execution_count": 40,
   "id": "b55d5d90",
   "metadata": {},
   "outputs": [
    {
     "name": "stdout",
     "output_type": "stream",
     "text": [
      "Array asli:\n",
      "[[ 0  5 10 15]\n",
      " [20 25 30 35]\n",
      " [40 45 50 55]]\n",
      "\n",
      "\n",
      "Diurutkan dalam C-style order:\n",
      "0 5 10 15 20 25 30 35 40 45 50 55 \n",
      "\n",
      "Diurutkan dalam in F-style order:\n",
      "0 20 40 5 25 45 10 30 50 15 35 55 "
     ]
    }
   ],
   "source": [
    "#contoh 4\n",
    "a = np.arange(0,60,5) \n",
    "a = a.reshape(3,4) \n",
    "\n",
    "print('Array asli:') \n",
    "print(a) \n",
    "print('\\n')  \n",
    "\n",
    "# Best practiice nya untuk ordering format langsung di np.nditer\n",
    "print('Diurutkan dalam C-style order:') \n",
    "for x in np.nditer(a, order = 'C'): \n",
    "   print(x, end=' ')  \n",
    "print('\\n') \n",
    "\n",
    "print('Diurutkan dalam in F-style order:') \n",
    "for x in np.nditer(a, order = 'F'): \n",
    "   print(x, end=' ')\n",
    "\n"
   ]
  },
  {
   "cell_type": "markdown",
   "id": "d207878c",
   "metadata": {},
   "source": [
    "# modifikasi nilai elemen array\n",
    "\n",
    "`op_flags = ['readwrite']` di `np.nditer()` artinya **elemen array yang sedang diiterasi bisa dibaca dan diubah (tulis ulang)**. Ini digunakan kalau kamu ingin *mengubah isi array secara langsung* saat iterasi.\n",
    "\n",
    "---\n",
    "\n",
    "### 🔧 Default behavior\n",
    "\n",
    "Secara default, `np.nditer()` menggunakan `['readonly']`, artinya kamu cuma bisa baca data, gak bisa ubah.\n",
    "\n",
    "---\n",
    "\n",
    "### 📌 Contoh: `['readonly']` (default)\n",
    "\n",
    "```python\n",
    "import numpy as np\n",
    "\n",
    "a = np.array([1, 2, 3])\n",
    "\n",
    "for x in np.nditer(a):\n",
    "    x[...] = x * 2  # akan error, karena default-nya readonly\n",
    "```\n",
    "\n",
    "**❌ Error**: `ValueError: assignment destination is read-only`\n",
    "\n",
    "---\n",
    "\n",
    "### ✅ Solusi: `['readwrite']`\n",
    "\n",
    "```python\n",
    "import numpy as np\n",
    "\n",
    "a = np.array([1, 2, 3])\n",
    "\n",
    "for x in np.nditer(a, op_flags=['readwrite']):\n",
    "    x[...] = x * 2\n",
    "\n",
    "print(a)\n",
    "```\n",
    "\n",
    "**Output:**\n",
    "\n",
    "```\n",
    "[2 4 6]\n",
    "```\n",
    "\n",
    "---\n",
    "\n",
    "### 🧠 Kenapa pakai `x[...]`?\n",
    "\n",
    "Karena `x` di `nditer` bukan nilai langsung, tapi semacam *pointer view* ke elemen asli array. `x[...]` artinya: isi dari elemen itu, bukan variabel `x` itu sendiri.\n",
    "\n",
    "---\n",
    "\n",
    "### 📚 Ringkasan `op_flags`:\n",
    "\n",
    "| Flag          | Artinya                           |\n",
    "| ------------- | --------------------------------- |\n",
    "| `'readonly'`  | hanya bisa baca elemen            |\n",
    "| `'readwrite'` | bisa baca dan tulis (ubah elemen) |\n",
    "| `'writeonly'` | hanya bisa tulis, bukan baca      |\n",
    "\n",
    "Kalau mau, aku bisa kasih contoh untuk array 2D juga biar lebih jelas.\n"
   ]
  },
  {
   "cell_type": "code",
   "execution_count": 41,
   "id": "0d5e98db",
   "metadata": {},
   "outputs": [
    {
     "name": "stdout",
     "output_type": "stream",
     "text": [
      "Array asli:\n",
      "[[ 0  5 10 15]\n",
      " [20 25 30 35]\n",
      " [40 45 50 55]]\n",
      "\n",
      "\n",
      "Array yang telah dimodifikasi:\n",
      "[[  0  10  20  30]\n",
      " [ 40  50  60  70]\n",
      " [ 80  90 100 110]]\n"
     ]
    }
   ],
   "source": [
    "a = np.arange(0,60,5)\n",
    "a = a.reshape(3,4)\n",
    "print('Array asli:')\n",
    "print(a)\n",
    "print('\\n')\n",
    "\n",
    "for x in np.nditer(a, op_flags = ['readwrite']):\n",
    "   x[...] = 2*x\n",
    "print('Array yang telah dimodifikasi:')\n",
    "print(a)\n"
   ]
  },
  {
   "cell_type": "markdown",
   "id": "ae9ff87f",
   "metadata": {},
   "source": [
    "# eksternal looping\n",
    "\n",
    "`flags=['external_loop']` di `np.nditer()` artinya **iterasi akan dilakukan dengan mengeluarkan satu *chunk* (biasanya baris atau beberapa elemen sekaligus) dalam bentuk 1D array, bukan elemen per elemen**.\n",
    "\n",
    "---\n",
    "\n",
    "### 🔍 Tujuan utama:\n",
    "\n",
    "Supaya kamu bisa memproses *sekumpulan elemen sekaligus* (misalnya dengan operasi NumPy biasa) daripada harus memproses satu-satu pakai Python loop. Ini **lebih cepat** dan efisien secara performa.\n",
    "\n",
    "---\n",
    "\n",
    "### 📌 Contoh tanpa `external_loop` (elemen per elemen)\n",
    "\n",
    "```python\n",
    "import numpy as np\n",
    "\n",
    "a = np.array([[1, 2, 3],\n",
    "              [4, 5, 6]])\n",
    "\n",
    "for x in np.nditer(a):\n",
    "    print(x)\n",
    "```\n",
    "\n",
    "**Output:**\n",
    "\n",
    "```\n",
    "1\n",
    "2\n",
    "3\n",
    "4\n",
    "5\n",
    "6\n",
    "```\n",
    "\n",
    "---\n",
    "\n",
    "### ✅ Contoh dengan `flags=['external_loop']`\n",
    "\n",
    "```python\n",
    "for x in np.nditer(a, flags=['external_loop']):\n",
    "    print(x)\n",
    "```\n",
    "\n",
    "**Output:**\n",
    "\n",
    "```\n",
    "[1 2 3]\n",
    "[4 5 6]\n",
    "```\n",
    "\n",
    "> Sekarang `x` adalah array 1D, satu baris penuh, bukan satu angka per iterasi.\n",
    "\n",
    "---\n",
    "\n",
    "### 🧠 Gunanya apa?\n",
    "\n",
    "Dengan `external_loop`, kamu bisa:\n",
    "\n",
    "* Memproses 1 baris array sekaligus.\n",
    "* Menghindari overhead loop Python yang lambat.\n",
    "* Gunakan operasi NumPy vektor lebih efisien.\n",
    "\n",
    "---\n",
    "\n",
    "### ⚠️ Catatan\n",
    "\n",
    "Agar `external_loop` bekerja sesuai harapan:\n",
    "\n",
    "* Biasanya digunakan bareng `order='C'` (row-major).\n",
    "* `op_flags` tetap bisa digunakan, misalnya `op_flags=['readwrite']`.\n",
    "\n",
    "Contoh:\n",
    "\n",
    "```python\n",
    "for x in np.nditer(a, flags=['external_loop'], op_flags=['readwrite']):\n",
    "    x[...] = x * 2\n",
    "```\n",
    "\n",
    "---\n",
    "\n",
    "Kalau mau, saya bisa bantu contoh manipulasi array 3D pakai `external_loop` juga.\n"
   ]
  },
  {
   "cell_type": "code",
   "execution_count": 60,
   "id": "2893fdcc",
   "metadata": {},
   "outputs": [
    {
     "name": "stdout",
     "output_type": "stream",
     "text": [
      "Array asli:\n",
      "[[ 0  5 10 15]\n",
      " [20 25 30 35]\n",
      " [40 45 50 55]]\n",
      "\n",
      "\n",
      "Array yang telah di modifikasi:\n",
      "[ 0 20 40] [ 5 25 45] [10 30 50] [15 35 55] "
     ]
    }
   ],
   "source": [
    "a = np.arange(0,60,5) \n",
    "a = a.reshape(3,4) \n",
    "\n",
    "print('Array asli:') \n",
    "print(a) \n",
    "print('\\n')  \n",
    "\n",
    "print('Array yang telah di modifikasi:') \n",
    "for x in np.nditer(a, flags = ['external_loop'], order = 'F'):\n",
    "   print(x, end=' ')\n"
   ]
  },
  {
   "cell_type": "markdown",
   "id": "5cc837c6",
   "metadata": {},
   "source": [
    "# broadcasting iterasi array\n"
   ]
  },
  {
   "cell_type": "code",
   "execution_count": 43,
   "id": "7dcfce7e",
   "metadata": {},
   "outputs": [
    {
     "name": "stdout",
     "output_type": "stream",
     "text": [
      "Array pertama:\n",
      "[[ 0  5 10 15]\n",
      " [20 25 30 35]\n",
      " [40 45 50 55]]\n",
      "\n",
      "\n",
      "Array kedua:\n",
      "[1 2 3 4]\n",
      "\n",
      "\n",
      "Array yang telah di modifikasi:\n",
      "0:1 5:2 10:3 15:4 20:1 25:2 30:3 35:4 40:1 45:2 50:3 55:4 "
     ]
    }
   ],
   "source": [
    "a = np.arange(0,60,5) \n",
    "a = a.reshape(3,4) \n",
    "\n",
    "print('Array pertama:') \n",
    "print(a) \n",
    "print('\\n')  \n",
    "\n",
    "print('Array kedua:') \n",
    "b = np.array([1, 2, 3, 4], dtype = int) \n",
    "print(b)  \n",
    "print('\\n') \n",
    "\n",
    "print('Array yang telah di modifikasi:') \n",
    "for x,y in np.nditer([a,b]): \n",
    "   print(\"%d:%d\" % (x,y), end=' ')\n"
   ]
  },
  {
   "cell_type": "markdown",
   "id": "fac024d7",
   "metadata": {},
   "source": [
    "# Numpy for Mathematics"
   ]
  },
  {
   "cell_type": "markdown",
   "id": "d9c88455",
   "metadata": {},
   "source": [
    "Fungsi Trigonomeri\n",
    "\n",
    "\n",
    "NumPy memiliki fungsi trigonometri standar yang mengembalikan rasio trigonometri untuk sudut tertentu dalam radian."
   ]
  },
  {
   "cell_type": "code",
   "execution_count": 44,
   "id": "32c44b57",
   "metadata": {},
   "outputs": [
    {
     "name": "stdout",
     "output_type": "stream",
     "text": [
      "Nilai sin dari sudut yang berbeda-beda:\n",
      "[0.         0.5        0.70710678 0.8660254  1.        ]\n",
      "\n",
      "\n",
      "Nilai kosinus sudut dalam array:\n",
      "[1.00000000e+00 8.66025404e-01 7.07106781e-01 5.00000000e-01\n",
      " 6.12323400e-17]\n",
      "\n",
      "\n",
      "Nilai tangent sudut dalam array:\n",
      "[0.00000000e+00 5.77350269e-01 1.00000000e+00 1.73205081e+00\n",
      " 1.63312394e+16]\n"
     ]
    }
   ],
   "source": [
    "a = np.array([0,30,45,60,90]) \n",
    "\n",
    "print('Nilai sin dari sudut yang berbeda-beda:') \n",
    "# konversi radian dengan mengalikannya dengan pi/180 \n",
    "print(np.sin(a*np.pi/180)) \n",
    "print('\\n')  \n",
    "\n",
    "print('Nilai kosinus sudut dalam array:') \n",
    "print(np.cos(a*np.pi/180)) \n",
    "print('\\n')  \n",
    "\n",
    "print('Nilai tangent sudut dalam array:') \n",
    "print(np.tan(a*np.pi/180)) \n"
   ]
  },
  {
   "cell_type": "code",
   "execution_count": 45,
   "id": "2b9b3540",
   "metadata": {},
   "outputs": [
    {
     "name": "stdout",
     "output_type": "stream",
     "text": [
      "Array dengan nilai sinus:\n",
      "[0.         0.5        0.70710678 0.8660254  1.        ]\n",
      "\n",
      "\n",
      "Hitung inverse(kebalikan) sinus dari sudut. Nilai yang dikembalikan dalam radian.\n",
      "[0.         0.52359878 0.78539816 1.04719755 1.57079633]\n",
      "\n",
      "\n",
      "Periksa hasil dengan mengonversi ke derajat:\n",
      "[ 0. 30. 45. 60. 90.]\n",
      "\n",
      "\n",
      "fungsi arccos dan arctan berperilaku serupa:\n",
      "[1.00000000e+00 8.66025404e-01 7.07106781e-01 5.00000000e-01\n",
      " 6.12323400e-17]\n",
      "\n",
      "\n",
      "Inverse dari cos:\n",
      "[0.         0.52359878 0.78539816 1.04719755 1.57079633]\n",
      "\n",
      "\n",
      "dalam derajat:\n",
      "[ 0. 30. 45. 60. 90.]\n",
      "\n",
      "\n",
      "Fungsi Tan:\n",
      "[0.00000000e+00 5.77350269e-01 1.00000000e+00 1.73205081e+00\n",
      " 1.63312394e+16]\n",
      "\n",
      "\n",
      "Inverse dari tan:\n",
      "[0.         0.52359878 0.78539816 1.04719755 1.57079633]\n",
      "\n",
      "\n",
      "dalam derajat:\n",
      "[ 0. 30. 45. 60. 90.]\n"
     ]
    }
   ],
   "source": [
    "a = np.array([0,30,45,60,90]) \n",
    "\n",
    "print('Array dengan nilai sinus:') \n",
    "sin = np.sin(a*np.pi/180) \n",
    "print(sin) \n",
    "print('\\n')  \n",
    "\n",
    "print('Hitung inverse(kebalikan) sinus dari sudut. Nilai yang dikembalikan dalam radian.') \n",
    "inv = np.arcsin(sin) \n",
    "print(inv) \n",
    "print('\\n')  \n",
    "\n",
    "print('Periksa hasil dengan mengonversi ke derajat:') \n",
    "print(np.degrees(inv)) \n",
    "print('\\n')  \n",
    "\n",
    "print('fungsi arccos dan arctan berperilaku serupa:') \n",
    "cos = np.cos(a*np.pi/180) \n",
    "print(cos) \n",
    "print('\\n')  \n",
    "\n",
    "print('Inverse dari cos:') \n",
    "inv = np.arccos(cos) \n",
    "print(inv) \n",
    "print('\\n')  \n",
    "\n",
    "print('dalam derajat:') \n",
    "print(np.degrees(inv)) \n",
    "print('\\n')  \n",
    "\n",
    "print('Fungsi Tan:') \n",
    "tan = np.tan(a*np.pi/180) \n",
    "print(tan)\n",
    "print('\\n')  \n",
    "\n",
    "print('Inverse dari tan:') \n",
    "inv = np.arctan(tan) \n",
    "print(inv) \n",
    "print('\\n')  \n",
    "\n",
    "print('dalam derajat:') \n",
    "print(np.degrees(inv))\n"
   ]
  },
  {
   "cell_type": "code",
   "execution_count": 46,
   "id": "3875de79",
   "metadata": {},
   "outputs": [
    {
     "name": "stdout",
     "output_type": "stream",
     "text": [
      "Array asli:\n",
      "[  1.      5.55  123.      0.567  25.532]\n",
      "\n",
      "\n",
      "Setelah pembulatan:\n",
      "[  1.   6. 123.   1.  26.]\n",
      "[  1.    5.6 123.    0.6  25.5]\n"
     ]
    }
   ],
   "source": [
    "a = np.array([1.0,5.55, 123, 0.567, 25.532]) \n",
    "\n",
    "print('Array asli:') \n",
    "print(a) \n",
    "print('\\n')  \n",
    "\n",
    "print('Setelah pembulatan:') \n",
    "print(np.around(a)) \n",
    "print(np.around(a, decimals = 1)) \n"
   ]
  },
  {
   "cell_type": "code",
   "execution_count": 47,
   "id": "eea1e661",
   "metadata": {},
   "outputs": [
    {
     "name": "stdout",
     "output_type": "stream",
     "text": [
      "Array asli:\n",
      "[-1.7  1.5 -0.2  0.6 10. ]\n",
      "\n",
      "\n",
      "flooring array:\n",
      "[-2.  1. -1.  0. 10.]\n"
     ]
    }
   ],
   "source": [
    "a = np.array([-1.7, 1.5, -0.2, 0.6, 10]) \n",
    "\n",
    "print('Array asli:') \n",
    "print(a) \n",
    "print('\\n')  \n",
    "\n",
    "print('flooring array:') \n",
    "print(np.floor(a))\n"
   ]
  },
  {
   "cell_type": "code",
   "execution_count": 48,
   "id": "52b82e04",
   "metadata": {},
   "outputs": [
    {
     "name": "stdout",
     "output_type": "stream",
     "text": [
      "Array asli:\n",
      "[-1.7  1.5 -0.2  0.6 10. ]\n",
      "\n",
      "\n",
      "ceiling array:\n",
      "[-1.  2. -0.  1. 10.]\n"
     ]
    }
   ],
   "source": [
    "a = np.array([-1.7, 1.5, -0.2, 0.6, 10]) \n",
    "\n",
    "print('Array asli:') \n",
    "print(a) \n",
    "print('\\n')  \n",
    "\n",
    "print('ceiling array:') \n",
    "print(np.ceil(a))\n"
   ]
  },
  {
   "cell_type": "markdown",
   "id": "3517864e",
   "metadata": {},
   "source": [
    "## Operasi Aritmatika"
   ]
  },
  {
   "cell_type": "code",
   "execution_count": 49,
   "id": "f253f485",
   "metadata": {},
   "outputs": [
    {
     "name": "stdout",
     "output_type": "stream",
     "text": [
      "Array pertama:\n",
      "[[0. 1. 2.]\n",
      " [3. 4. 5.]\n",
      " [6. 7. 8.]]\n",
      "\n",
      "\n",
      "Array kedua:\n",
      "[10 10 10]\n",
      "\n",
      "\n",
      "Penjumlahan 2 array:\n",
      "[[10. 11. 12.]\n",
      " [13. 14. 15.]\n",
      " [16. 17. 18.]]\n",
      "\n",
      "\n",
      "Pengurangan 2 array:\n",
      "[[-10.  -9.  -8.]\n",
      " [ -7.  -6.  -5.]\n",
      " [ -4.  -3.  -2.]]\n",
      "\n",
      "\n",
      "Perkalian 2 array:\n",
      "[[ 0. 10. 20.]\n",
      " [30. 40. 50.]\n",
      " [60. 70. 80.]]\n",
      "\n",
      "\n",
      "Pembagian 2 array:\n",
      "[[0.  0.1 0.2]\n",
      " [0.3 0.4 0.5]\n",
      " [0.6 0.7 0.8]]\n"
     ]
    }
   ],
   "source": [
    "a = np.arange(9, dtype = np.float_).reshape(3,3) \n",
    "\n",
    "print('Array pertama:') \n",
    "print(a) \n",
    "print('\\n')  \n",
    "\n",
    "print('Array kedua:') \n",
    "b = np.array([10,10,10]) \n",
    "print(b) \n",
    "print('\\n')  \n",
    "\n",
    "print('Penjumlahan 2 array:') \n",
    "print(np.add(a,b)) \n",
    "print('\\n')  \n",
    "\n",
    "print('Pengurangan 2 array:') \n",
    "print(np.subtract(a,b)) \n",
    "print('\\n')  \n",
    "\n",
    "print('Perkalian 2 array:') \n",
    "print(np.multiply(a,b)) \n",
    "print('\\n')  \n",
    "\n",
    "print('Pembagian 2 array:') \n",
    "print(np.divide(a,b))\n"
   ]
  },
  {
   "cell_type": "code",
   "execution_count": 50,
   "id": "3723f2d2",
   "metadata": {},
   "outputs": [
    {
     "name": "stdout",
     "output_type": "stream",
     "text": [
      "Array asli:\n",
      "[  10  100 1000]\n",
      "\n",
      "\n",
      "Menggunakan power function:\n",
      "[    100   10000 1000000]\n",
      "\n",
      "\n",
      "Array kedua:\n",
      "[1 2 3]\n",
      "\n",
      "\n",
      "Menggunakan power function lagi:\n",
      "[        10      10000 1000000000]\n"
     ]
    }
   ],
   "source": [
    "a = np.array([10,100,1000]) \n",
    "\n",
    "print('Array asli:') \n",
    "print(a) \n",
    "print('\\n')  \n",
    "\n",
    "print('Menggunakan power function:') \n",
    "print(np.power(a,2)) \n",
    "print('\\n')  \n",
    "\n",
    "print('Array kedua:') \n",
    "b = np.array([1,2,3]) \n",
    "print(b) \n",
    "print('\\n')  \n",
    "\n",
    "print('Menggunakan power function lagi:') \n",
    "print(np.power(a,b))\n"
   ]
  },
  {
   "cell_type": "code",
   "execution_count": 51,
   "id": "c4afa4ac",
   "metadata": {},
   "outputs": [
    {
     "name": "stdout",
     "output_type": "stream",
     "text": [
      "Array pertama:\n",
      "[10 20 30]\n",
      "\n",
      "\n",
      "Array kedua:\n",
      "[3 5 7]\n",
      "\n",
      "\n",
      "menggunakan mod() function:\n",
      "[1 0 2]\n",
      "\n",
      "\n",
      "menggunakan remainder() function:\n",
      "[1 0 2]\n"
     ]
    }
   ],
   "source": [
    "a = np.array([10,20,30]) \n",
    "b = np.array([3,5,7]) \n",
    "\n",
    "print('Array pertama:') \n",
    "print(a) \n",
    "print('\\n')  \n",
    "\n",
    "print('Array kedua:') \n",
    "print(b) \n",
    "print('\\n')  \n",
    "\n",
    "print('menggunakan mod() function:') \n",
    "print(np.mod(a,b)) \n",
    "print('\\n')  \n",
    "\n",
    "print('menggunakan remainder() function:') \n",
    "print(np.remainder(a,b)) \n"
   ]
  },
  {
   "cell_type": "markdown",
   "id": "9589c9b3",
   "metadata": {},
   "source": [
    "## Fungsi Statistika"
   ]
  },
  {
   "cell_type": "code",
   "execution_count": 52,
   "id": "06e9a6a6",
   "metadata": {},
   "outputs": [
    {
     "name": "stdout",
     "output_type": "stream",
     "text": [
      "Array asli:\n",
      "[[3 7 5]\n",
      " [8 4 3]\n",
      " [2 4 9]]\n",
      "\n",
      "\n",
      "menggunakan amin() function:\n",
      "[3 3 2]\n",
      "\n",
      "\n",
      "menggunakan amin() function lagi:\n",
      "[2 4 3]\n",
      "\n",
      "\n",
      "menggunakan amax() function:\n",
      "9\n",
      "\n",
      "\n",
      "menggunakan amax() function lagi:\n",
      "[8 7 9]\n"
     ]
    }
   ],
   "source": [
    "# Mencari nilai minimum dan maximum dalam suatu array\n",
    "a = np.array([[3,7,5],[8,4,3],[2,4,9]]) \n",
    "\n",
    "print('Array asli:') \n",
    "print(a)  \n",
    "print('\\n')  \n",
    "\n",
    "print('menggunakan amin() function:') \n",
    "print(np.amin(a,1)) \n",
    "print('\\n')  \n",
    "\n",
    "print('menggunakan amin() function lagi:') \n",
    "print(np.amin(a,0)) \n",
    "print('\\n')  \n",
    "\n",
    "print('menggunakan amax() function:') \n",
    "print(np.amax(a)) \n",
    "print('\\n')  \n",
    "\n",
    "print('menggunakan amax() function lagi:') \n",
    "print(np.amax(a, axis = 0))\n"
   ]
  },
  {
   "cell_type": "markdown",
   "id": "da48753c",
   "metadata": {},
   "source": [
    "np.percentile\n",
    "\n",
    "Persentil (atau satu persentil) adalah ukuran yang digunakan dalam statistik yang menunjukkan nilai di bawah persentase pengamatan tertentu dalam kelompok pengamatan.\n",
    "\n",
    "\n",
    "numpy.percentile(a, q, axis)\n",
    "\n",
    "\n",
    "a : Input array\n",
    "\n",
    "q : Persentil yang akan dihitung harus antara 0-100\n",
    "\n",
    "axis : sumbu"
   ]
  },
  {
   "cell_type": "markdown",
   "id": "1dd321bd",
   "metadata": {},
   "source": [
    "Persentil untuk nilai dalam kumpulan data tertentu dapat dihitung menggunakan rumus:\n",
    "\n",
    "n = (P/100) x N\n",
    "\n",
    "\n",
    "di mana N = jumlah nilai dalam kumpulan data, P = persentil, dan n = peringkat ordinal dari nilai yang diberikan (dengan nilai dalam kumpulan data diurutkan dari terkecil ke terbesar). Misalnya, ambil kelas yang terdiri dari 20 siswa yang memperoleh nilai berikut pada tes terbaru mereka: 75, 77, 78, 78, 80, 81, 81, 82, 83, 84, 84, 84, 85, 87, 87, 88, 88, 88, 89, 90. Skor ini dapat direpresentasikan sebagai kumpulan data dengan 20 nilai: {75, 77, 78, 78, 80, 81, 81, 82, 83, 84, 84, 84, 85, 87, 87, 88, 88, 88, 89, 90}.\n",
    "\n",
    "Kita dapat menemukan skor yang menandai persentil ke-20 dengan memasukkan nilai yang diketahui ke dalam rumus dan menyelesaikan n:\n",
    "\n",
    "n = (20/100) x 20\n",
    "\n",
    "n = 4\n",
    "\n",
    "Nilai keempat dalam kumpulan data adalah skor 78. Ini berarti bahwa 78 menandai persentil ke-20; dari siswa di kelas, 20 persen memperoleh skor 78 atau lebih rendah."
   ]
  },
  {
   "cell_type": "code",
   "execution_count": 53,
   "id": "1a94b751",
   "metadata": {},
   "outputs": [
    {
     "name": "stdout",
     "output_type": "stream",
     "text": [
      "Array asli:\n",
      "[[30 40 70]\n",
      " [80 20 10]\n",
      " [50 90 60]]\n",
      "\n",
      "\n",
      "menggunakan percentile() function:\n",
      "50.0\n",
      "\n",
      "\n",
      "Menggunakan percentile() function disumbu 1:\n",
      "[40. 20. 60.]\n",
      "\n",
      "\n",
      "Menggunakan percentile() function disumbu 0:\n",
      "[50. 40. 60.]\n"
     ]
    }
   ],
   "source": [
    "a = np.array([[30,40,70],[80,20,10],[50,90,60]]) \n",
    "\n",
    "print('Array asli:') \n",
    "print(a) \n",
    "print('\\n')  \n",
    "\n",
    "print('menggunakan percentile() function:') \n",
    "print(np.percentile(a,50)) \n",
    "print('\\n')  \n",
    "\n",
    "print('Menggunakan percentile() function disumbu 1:') \n",
    "print(np.percentile(a,50, axis = 1)) \n",
    "print('\\n')  \n",
    "\n",
    "print('Menggunakan percentile() function disumbu 0:') \n",
    "print(np.percentile(a,50, axis = 0))\n",
    "\n",
    "\n"
   ]
  },
  {
   "cell_type": "markdown",
   "id": "0b2aa4e7",
   "metadata": {},
   "source": [
    "Median didefinisikan sebagai nilai yang memisahkan bagian yang lebih tinggi dari sampel data dari bagian yang lebih rendah, dan bisa di hitung menggunakan numpy.median"
   ]
  },
  {
   "cell_type": "code",
   "execution_count": 54,
   "id": "6275f27c",
   "metadata": {},
   "outputs": [
    {
     "name": "stdout",
     "output_type": "stream",
     "text": [
      "Array asli:\n",
      "[[30 65 70]\n",
      " [80 95 10]\n",
      " [50 90 60]]\n",
      "\n",
      "\n",
      "menggunakan median() function:\n",
      "65.0\n",
      "\n",
      "\n",
      "menggunakan median() function sepanjang sumbu 0:\n",
      "[50. 90. 60.]\n",
      "\n",
      "\n",
      "Menggunakan median() function sepanjang axis 1:\n",
      "[65. 80. 60.]\n"
     ]
    }
   ],
   "source": [
    "a = np.array([[30,65,70],[80,95,10],[50,90,60]]) \n",
    "\n",
    "print('Array asli:') \n",
    "print(a) \n",
    "print('\\n')  \n",
    "\n",
    "print('menggunakan median() function:') \n",
    "print(np.median(a)) \n",
    "print('\\n')  \n",
    "\n",
    "print('menggunakan median() function sepanjang sumbu 0:') \n",
    "print(np.median(a, axis = 0)) \n",
    "print('\\n')  \n",
    " \n",
    "print('Menggunakan median() function sepanjang axis 1:') \n",
    "print(np.median(a, axis = 1))\n"
   ]
  },
  {
   "cell_type": "markdown",
   "id": "b6671d0c",
   "metadata": {},
   "source": [
    "Rata-rata aritmatika adalah jumlah elemen sepanjang sumbu dibagi dengan jumlah elemen. Fungsi numpy.mean() mengembalikan mean aritmatika elemen dalam array. Jika sumbu disebutkan secara eksplisit, maka akan dihitung berdasarkan nilai sumbunya\n",
    "\n",
    "\n"
   ]
  },
  {
   "cell_type": "code",
   "execution_count": 55,
   "id": "ce35b665",
   "metadata": {},
   "outputs": [
    {
     "name": "stdout",
     "output_type": "stream",
     "text": [
      "Array asli:\n",
      "[[1 2 3]\n",
      " [3 4 5]\n",
      " [4 5 6]]\n",
      "\n",
      "\n",
      "Menggunakan mean() function:\n",
      "3.6666666666666665\n",
      "\n",
      "\n",
      "Menggunakan mean() function sepanjang sumbu 0:\n",
      "[2.66666667 3.66666667 4.66666667]\n",
      "\n",
      "\n",
      "Menggunakan mean() function sepanjang sumbu 1:\n",
      "[2. 4. 5.]\n"
     ]
    }
   ],
   "source": [
    "a = np.array([[1,2,3],[3,4,5],[4,5,6]]) \n",
    "\n",
    "print('Array asli:') \n",
    "print(a) \n",
    "print('\\n')  \n",
    "\n",
    "print('Menggunakan mean() function:') \n",
    "print(np.mean(a)) \n",
    "print('\\n')  \n",
    "\n",
    "print('Menggunakan mean() function sepanjang sumbu 0:') \n",
    "print(np.mean(a, axis = 0)) \n",
    "print('\\n')  \n",
    "\n",
    "print('Menggunakan mean() function sepanjang sumbu 1:') \n",
    "print(np.mean(a, axis = 1))\n"
   ]
  },
  {
   "cell_type": "markdown",
   "id": "b7af93e7",
   "metadata": {},
   "source": [
    "Rata-rata tertimbang adalah rata-rata yang dihasilkan dari perkalian setiap komponen dengan faktor yang mencerminkan kepentingannya. Fungsi numpy.average() menghitung rata-rata tertimbang elemen dalam array sesuai dengan bobot masing-masing yang diberikan dalam array lain. Fungsi dapat memiliki parameter sumbu. Jika sumbu tidak ditentukan, array diratakan.\n",
    "\n",
    "Mempertimbangkan array [1,2,3,4] dan bobot yang sesuai [4,3,2,1], rata-rata tertimbang dihitung dengan menambahkan produk dari elemen yang sesuai dan membagi jumlah dengan jumlah bobot.\n",
    "\n",
    "Rata-rata tertimbang = (1*4+2*3+3*2+4*1)/(4+3+2+1)"
   ]
  },
  {
   "cell_type": "code",
   "execution_count": 56,
   "id": "38c6a567",
   "metadata": {},
   "outputs": [
    {
     "name": "stdout",
     "output_type": "stream",
     "text": [
      "Array asli:\n",
      "[1 2 3 4]\n",
      "\n",
      "\n",
      "menggunakan average() function:\n",
      "2.5\n",
      "\n",
      "\n",
      "menggunakan average() function lagi:\n",
      "2.0\n",
      "\n",
      "\n",
      "Sum of weights\n",
      "(2.0, 10.0)\n"
     ]
    }
   ],
   "source": [
    "a = np.array([1,2,3,4]) \n",
    "\n",
    "print('Array asli:') \n",
    "print(a) \n",
    "print('\\n')  \n",
    "\n",
    "print('menggunakan average() function:') \n",
    "print(np.average(a)) \n",
    "print('\\n')  \n",
    "\n",
    "# this is same as mean when weight is not specified \n",
    "wts = np.array([4,3,2,1]) \n",
    "\n",
    "print('menggunakan average() function lagi:') \n",
    "print(np.average(a,weights = wts)) \n",
    "print('\\n')  \n",
    "\n",
    "# Returns the sum of weights, if the returned parameter is set to True. \n",
    "print('Sum of weights') \n",
    "print(np.average([1,2,3, 4],weights = [4,3,2,1], returned = True))\n"
   ]
  },
  {
   "cell_type": "markdown",
   "id": "ab4b107c",
   "metadata": {},
   "source": [
    "Standar deviasi  adalah ukuran seberapa tersebar data dalam kaitannya dengan mean. Standar deviasi rendah berarti data mengelompok di sekitar rata-rata, dan standar deviasi tinggi menunjukkan data lebih tersebar."
   ]
  },
  {
   "cell_type": "code",
   "execution_count": 57,
   "id": "fb2ffd84",
   "metadata": {},
   "outputs": [
    {
     "data": {
      "text/plain": [
       "1.118033988749895"
      ]
     },
     "execution_count": 57,
     "metadata": {},
     "output_type": "execute_result"
    }
   ],
   "source": [
    "np.std([1,2,3,4])"
   ]
  },
  {
   "cell_type": "markdown",
   "id": "94e63028",
   "metadata": {},
   "source": [
    "Varians adalah ukuran variabilitas. Ini dihitung dengan mengambil rata-rata deviasi kuadrat dari mean. Varians memberi tahu Anda tingkat penyebaran dalam kumpulan data Anda. Semakin menyebar data, semakin besar varians dalam kaitannya dengan mean"
   ]
  },
  {
   "cell_type": "code",
   "execution_count": 58,
   "id": "45a1af93",
   "metadata": {},
   "outputs": [
    {
     "name": "stdout",
     "output_type": "stream",
     "text": [
      "1.25\n"
     ]
    }
   ],
   "source": [
    "print(np.var([1,2,3,4]))"
   ]
  }
 ],
 "metadata": {
  "kernelspec": {
   "display_name": "porto-bank-transaction-cluster",
   "language": "python",
   "name": "python3"
  },
  "language_info": {
   "codemirror_mode": {
    "name": "ipython",
    "version": 3
   },
   "file_extension": ".py",
   "mimetype": "text/x-python",
   "name": "python",
   "nbconvert_exporter": "python",
   "pygments_lexer": "ipython3",
   "version": "3.11.13"
  }
 },
 "nbformat": 4,
 "nbformat_minor": 5
}
